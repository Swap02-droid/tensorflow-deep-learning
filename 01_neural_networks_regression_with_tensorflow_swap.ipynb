{
  "nbformat": 4,
  "nbformat_minor": 0,
  "metadata": {
    "colab": {
      "provenance": [],
      "authorship_tag": "ABX9TyOeTElt/LN7ELeptWbedrTY",
      "include_colab_link": true
    },
    "kernelspec": {
      "name": "python3",
      "display_name": "Python 3"
    },
    "language_info": {
      "name": "python"
    }
  },
  "cells": [
    {
      "cell_type": "markdown",
      "metadata": {
        "id": "view-in-github",
        "colab_type": "text"
      },
      "source": [
        "<a href=\"https://colab.research.google.com/github/Swap02-droid/tensorflow-deep-learning/blob/main/01_neural_networks_regression_with_tensorflow_swap.ipynb\" target=\"_parent\"><img src=\"https://colab.research.google.com/assets/colab-badge.svg\" alt=\"Open In Colab\"/></a>"
      ]
    },
    {
      "cell_type": "markdown",
      "source": [
        "### Introduction of regressoin with Neual Networks in TensorFlow\n",
        "\n",
        "There are many definations of regression problem but in our case, we're going to simplify it: predicting a numerical veriable based on some other combination of variables, even shorter... predicting a number"
      ],
      "metadata": {
        "id": "MSyeT1QpJokc"
      }
    },
    {
      "cell_type": "code",
      "execution_count": null,
      "metadata": {
        "colab": {
          "base_uri": "https://localhost:8080/"
        },
        "id": "M-QjoEHiJab_",
        "outputId": "644a2c67-58d1-44f3-a1d0-c1e07b03b991"
      },
      "outputs": [
        {
          "output_type": "stream",
          "name": "stdout",
          "text": [
            "2.15.0\n"
          ]
        }
      ],
      "source": [
        "# Importing tensorflow\n",
        "\n",
        "import tensorflow as tf\n",
        "print(tf.__version__)"
      ]
    },
    {
      "cell_type": "code",
      "source": [
        "## Create a data to view and fit\n",
        "\n",
        "import numpy as np\n",
        "import matplotlib.pyplot as plt\n",
        "\n",
        "# Create a features\n",
        "x = np.array([-7.0, -4.0, -1.0, 2.0, 5.0, 8.0, 11.0, 14.0])\n",
        "\n",
        "# Create a labels\n",
        "y = np.array([3.0, 6.0, 9.0, 12.0, 15.0, 18.0, 21.0, 24.0])\n",
        "\n",
        "# Visualize it\n",
        "plt.scatter(x, y)"
      ],
      "metadata": {
        "colab": {
          "base_uri": "https://localhost:8080/",
          "height": 452
        },
        "id": "1CYgynPWKZKt",
        "outputId": "c9e2e77c-2177-40da-b20a-7c3fd5c733fd"
      },
      "execution_count": null,
      "outputs": [
        {
          "output_type": "execute_result",
          "data": {
            "text/plain": [
              "<matplotlib.collections.PathCollection at 0x7d29a0248700>"
            ]
          },
          "metadata": {},
          "execution_count": 2
        },
        {
          "output_type": "display_data",
          "data": {
            "text/plain": [
              "<Figure size 640x480 with 1 Axes>"
            ],
            "image/png": "[encoded data removed]"
          },
          "metadata": {}
        }
      ]
    },
    {
      "cell_type": "code",
      "source": [
        "y == x + 10"
      ],
      "metadata": {
        "colab": {
          "base_uri": "https://localhost:8080/"
        },
        "id": "gDn_VHXQLWBQ",
        "outputId": "f96e309a-8432-4563-9a7c-4e932686102d"
      },
      "execution_count": null,
      "outputs": [
        {
          "output_type": "execute_result",
          "data": {
            "text/plain": [
              "array([ True,  True,  True,  True,  True,  True,  True,  True])"
            ]
          },
          "metadata": {},
          "execution_count": 3
        }
      ]
    },
    {
      "cell_type": "markdown",
      "source": [
        "### Input and Output shape"
      ],
      "metadata": {
        "id": "3mQID5GHLchm"
      }
    },
    {
      "cell_type": "code",
      "source": [
        "house_info = tf.constant([\"bedroom\", \"bathroom\", \"garage\"])\n",
        "house_price = tf.constant([939700])\n",
        "\n",
        "house_info, house_price"
      ],
      "metadata": {
        "colab": {
          "base_uri": "https://localhost:8080/"
        },
        "id": "ck857Z8JLluZ",
        "outputId": "ed977851-3b81-4b46-f773-1ded42cfbfd1"
      },
      "execution_count": null,
      "outputs": [
        {
          "output_type": "execute_result",
          "data": {
            "text/plain": [
              "(<tf.Tensor: shape=(3,), dtype=string, numpy=array([b'bedroom', b'bathroom', b'garage'], dtype=object)>,\n",
              " <tf.Tensor: shape=(1,), dtype=int32, numpy=array([939700], dtype=int32)>)"
            ]
          },
          "metadata": {},
          "execution_count": 4
        }
      ]
    },
    {
      "cell_type": "code",
      "source": [
        "## lets truns numpy array into tensors\n",
        "x = tf.cast(tf.constant(x), dtype=tf.float32)\n",
        "y = tf.cast(tf.constant(y), dtype=tf.float32)\n",
        "x, y"
      ],
      "metadata": {
        "colab": {
          "base_uri": "https://localhost:8080/"
        },
        "id": "5kMUbRevL44Q",
        "outputId": "5bd9ab7a-f89d-44c1-bc98-18165c20b798"
      },
      "execution_count": null,
      "outputs": [
        {
          "output_type": "execute_result",
          "data": {
            "text/plain": [
              "(<tf.Tensor: shape=(8,), dtype=float32, numpy=array([-7., -4., -1.,  2.,  5.,  8., 11., 14.], dtype=float32)>,\n",
              " <tf.Tensor: shape=(8,), dtype=float32, numpy=array([ 3.,  6.,  9., 12., 15., 18., 21., 24.], dtype=float32)>)"
            ]
          },
          "metadata": {},
          "execution_count": 5
        }
      ]
    },
    {
      "cell_type": "code",
      "source": [
        "input_shape = x[0].shape\n",
        "output_shape = y[0].shape\n",
        "\n",
        "input_shape, output_shape"
      ],
      "metadata": {
        "colab": {
          "base_uri": "https://localhost:8080/"
        },
        "id": "zQ-JhW1EMNYx",
        "outputId": "6ed942b2-f3b8-41e8-f160-7cb2abbc4fb6"
      },
      "execution_count": null,
      "outputs": [
        {
          "output_type": "execute_result",
          "data": {
            "text/plain": [
              "(TensorShape([]), TensorShape([]))"
            ]
          },
          "metadata": {},
          "execution_count": 6
        }
      ]
    },
    {
      "cell_type": "markdown",
      "source": [
        "### Steps in modeling with tensorflow\n",
        "\n",
        "1. **Creating a model** - define a input and output layers, as well as the hidden layers of deep learnig model.\n",
        "2. **Compilling a model** - define a loss function(in other words, the function which tell our model how wrong it is) and the optimizer (tells our model to how it can improve the patterns its learning). and evalutions matrix (what we can use to interpret the performance of our model).\n",
        "3. **Fitting the model** - letting the model try to find patterns between x and y (feature and label)."
      ],
      "metadata": {
        "id": "g-e3ZPycMqVe"
      }
    },
    {
      "cell_type": "code",
      "source": [
        "## Set random seed\n",
        "tf.random.set_seed(42)\n",
        "\n",
        "# 1. Create a model using sequential API\n",
        "model = tf.keras.Sequential([\n",
        "     tf.keras.layers.Input(shape=(1,)),\n",
        "     tf.keras.layers.Dense(1)\n",
        "])\n",
        "\n",
        "# 2. Compile the model\n",
        "model.compile(loss=tf.keras.losses.mae,  # mae stands for mean absulate error\n",
        "              optimizer=tf.keras.optimizers.SGD(),  # SGD stands for Short Gradient descent.\n",
        "              metrics=[\"mae\"])\n",
        "\n",
        "# 3. Fit the model\n",
        "model.fit(x, y, epochs=5)"
      ],
      "metadata": {
        "colab": {
          "base_uri": "https://localhost:8080/"
        },
        "id": "Gw0pVOWVOCXJ",
        "outputId": "e9d93854-8803-4240-8099-b08dde470bf0"
      },
      "execution_count": null,
      "outputs": [
        {
          "output_type": "stream",
          "name": "stdout",
          "text": [
            "Epoch 1/5\n",
            "1/1 [==============================] - 0s 441ms/step - loss: 15.0930 - mae: 15.0930\n",
            "Epoch 2/5\n",
            "1/1 [==============================] - 0s 10ms/step - loss: 14.8707 - mae: 14.8707\n",
            "Epoch 3/5\n",
            "1/1 [==============================] - 0s 13ms/step - loss: 14.7382 - mae: 14.7382\n",
            "Epoch 4/5\n",
            "1/1 [==============================] - 0s 15ms/step - loss: 14.6057 - mae: 14.6057\n",
            "Epoch 5/5\n",
            "1/1 [==============================] - 0s 11ms/step - loss: 14.4732 - mae: 14.4732\n"
          ]
        },
        {
          "output_type": "execute_result",
          "data": {
            "text/plain": [
              "<keras.src.callbacks.History at 0x7d298ee8dff0>"
            ]
          },
          "metadata": {},
          "execution_count": 7
        }
      ]
    },
    {
      "cell_type": "code",
      "source": [
        "# check out x and y\n",
        "x, y"
      ],
      "metadata": {
        "colab": {
          "base_uri": "https://localhost:8080/"
        },
        "id": "729JapLNPdKP",
        "outputId": "e6ac014a-cbf6-4322-9b7c-aa3305dc3334"
      },
      "execution_count": null,
      "outputs": [
        {
          "output_type": "execute_result",
          "data": {
            "text/plain": [
              "(<tf.Tensor: shape=(8,), dtype=float32, numpy=array([-7., -4., -1.,  2.,  5.,  8., 11., 14.], dtype=float32)>,\n",
              " <tf.Tensor: shape=(8,), dtype=float32, numpy=array([ 3.,  6.,  9., 12., 15., 18., 21., 24.], dtype=float32)>)"
            ]
          },
          "metadata": {},
          "execution_count": 8
        }
      ]
    },
    {
      "cell_type": "code",
      "source": [
        "model.predict([17.0])"
      ],
      "metadata": {
        "colab": {
          "base_uri": "https://localhost:8080/"
        },
        "id": "6zQpEOLkSsNe",
        "outputId": "184e1b9a-9766-413b-9a30-a32a4ce69a97"
      },
      "execution_count": null,
      "outputs": [
        {
          "output_type": "stream",
          "name": "stdout",
          "text": [
            "1/1 [==============================] - 0s 96ms/step\n"
          ]
        },
        {
          "output_type": "execute_result",
          "data": {
            "text/plain": [
              "array([[-4.2667537]], dtype=float32)"
            ]
          },
          "metadata": {},
          "execution_count": 9
        }
      ]
    },
    {
      "cell_type": "markdown",
      "source": [
        "If we see here out model is predicting wrong output, for that we need to improve hidden layers\n",
        "\n",
        "Lets create another model with updated hidden layers"
      ],
      "metadata": {
        "id": "kXuAv01wS5EJ"
      }
    },
    {
      "cell_type": "code",
      "source": [
        "# 1. Create a model using sequebtial API\n",
        "model = tf.keras.Sequential([\n",
        "    tf.keras.layers.Input(shape=(1,)),\n",
        "    tf.keras.layers.Dense(1)\n",
        "])\n",
        "\n",
        "# 2. Compile the model\n",
        "model.compile(loss = tf.keras.losses.mae,\n",
        "              optimizer = tf.keras.optimizers.SGD(),\n",
        "              metrics = [\"mae\"])\n",
        "\n",
        "# 3. Fit the model\n",
        "model.fit(x, y, epochs=100)"
      ],
      "metadata": {
        "colab": {
          "base_uri": "https://localhost:8080/"
        },
        "id": "inhB6ae6SyDh",
        "outputId": "820fd48a-f463-4481-f4d4-dbbd4ad8b580"
      },
      "execution_count": null,
      "outputs": [
        {
          "output_type": "stream",
          "name": "stdout",
          "text": [
            "Epoch 1/100\n",
            "1/1 [==============================] - 0s 354ms/step - loss: 17.8934 - mae: 17.8934\n",
            "Epoch 2/100\n",
            "1/1 [==============================] - 0s 25ms/step - loss: 17.6122 - mae: 17.6122\n",
            "Epoch 3/100\n",
            "1/1 [==============================] - 0s 9ms/step - loss: 17.3309 - mae: 17.3309\n",
            "Epoch 4/100\n",
            "1/1 [==============================] - 0s 12ms/step - loss: 17.0497 - mae: 17.0497\n",
            "Epoch 5/100\n",
            "1/1 [==============================] - 0s 12ms/step - loss: 16.7684 - mae: 16.7684\n",
            "Epoch 6/100\n",
            "1/1 [==============================] - 0s 11ms/step - loss: 16.4872 - mae: 16.4872\n",
            "Epoch 7/100\n",
            "1/1 [==============================] - 0s 9ms/step - loss: 16.2059 - mae: 16.2059\n",
            "Epoch 8/100\n",
            "1/1 [==============================] - 0s 14ms/step - loss: 15.9247 - mae: 15.9247\n",
            "Epoch 9/100\n",
            "1/1 [==============================] - 0s 10ms/step - loss: 15.6434 - mae: 15.6434\n",
            "Epoch 10/100\n",
            "1/1 [==============================] - 0s 9ms/step - loss: 15.3622 - mae: 15.3622\n",
            "Epoch 11/100\n",
            "1/1 [==============================] - 0s 9ms/step - loss: 15.0809 - mae: 15.0809\n",
            "Epoch 12/100\n",
            "1/1 [==============================] - 0s 10ms/step - loss: 14.8252 - mae: 14.8252\n",
            "Epoch 13/100\n",
            "1/1 [==============================] - 0s 10ms/step - loss: 14.6927 - mae: 14.6927\n",
            "Epoch 14/100\n",
            "1/1 [==============================] - 0s 10ms/step - loss: 14.5602 - mae: 14.5602\n",
            "Epoch 15/100\n",
            "1/1 [==============================] - 0s 10ms/step - loss: 14.4277 - mae: 14.4277\n",
            "Epoch 16/100\n",
            "1/1 [==============================] - 0s 10ms/step - loss: 14.2952 - mae: 14.2952\n",
            "Epoch 17/100\n",
            "1/1 [==============================] - 0s 9ms/step - loss: 14.1627 - mae: 14.1627\n",
            "Epoch 18/100\n",
            "1/1 [==============================] - 0s 15ms/step - loss: 14.0302 - mae: 14.0302\n",
            "Epoch 19/100\n",
            "1/1 [==============================] - 0s 14ms/step - loss: 13.8977 - mae: 13.8977\n",
            "Epoch 20/100\n",
            "1/1 [==============================] - 0s 10ms/step - loss: 13.7652 - mae: 13.7652\n",
            "Epoch 21/100\n",
            "1/1 [==============================] - 0s 9ms/step - loss: 13.6327 - mae: 13.6327\n",
            "Epoch 22/100\n",
            "1/1 [==============================] - 0s 10ms/step - loss: 13.5002 - mae: 13.5002\n",
            "Epoch 23/100\n",
            "1/1 [==============================] - 0s 10ms/step - loss: 13.3677 - mae: 13.3677\n",
            "Epoch 24/100\n",
            "1/1 [==============================] - 0s 9ms/step - loss: 13.2352 - mae: 13.2352\n",
            "Epoch 25/100\n",
            "1/1 [==============================] - 0s 11ms/step - loss: 13.1027 - mae: 13.1027\n",
            "Epoch 26/100\n",
            "1/1 [==============================] - 0s 10ms/step - loss: 12.9702 - mae: 12.9702\n",
            "Epoch 27/100\n",
            "1/1 [==============================] - 0s 10ms/step - loss: 12.8377 - mae: 12.8377\n",
            "Epoch 28/100\n",
            "1/1 [==============================] - 0s 9ms/step - loss: 12.7052 - mae: 12.7052\n",
            "Epoch 29/100\n",
            "1/1 [==============================] - 0s 10ms/step - loss: 12.5727 - mae: 12.5727\n",
            "Epoch 30/100\n",
            "1/1 [==============================] - 0s 10ms/step - loss: 12.4402 - mae: 12.4402\n",
            "Epoch 31/100\n",
            "1/1 [==============================] - 0s 11ms/step - loss: 12.3077 - mae: 12.3077\n",
            "Epoch 32/100\n",
            "1/1 [==============================] - 0s 10ms/step - loss: 12.1752 - mae: 12.1752\n",
            "Epoch 33/100\n",
            "1/1 [==============================] - 0s 9ms/step - loss: 12.0427 - mae: 12.0427\n",
            "Epoch 34/100\n",
            "1/1 [==============================] - 0s 11ms/step - loss: 11.9102 - mae: 11.9102\n",
            "Epoch 35/100\n",
            "1/1 [==============================] - 0s 12ms/step - loss: 11.7777 - mae: 11.7777\n",
            "Epoch 36/100\n",
            "1/1 [==============================] - 0s 10ms/step - loss: 11.6452 - mae: 11.6452\n",
            "Epoch 37/100\n",
            "1/1 [==============================] - 0s 11ms/step - loss: 11.5127 - mae: 11.5127\n",
            "Epoch 38/100\n",
            "1/1 [==============================] - 0s 11ms/step - loss: 11.3802 - mae: 11.3802\n",
            "Epoch 39/100\n",
            "1/1 [==============================] - 0s 11ms/step - loss: 11.2477 - mae: 11.2477\n",
            "Epoch 40/100\n",
            "1/1 [==============================] - 0s 11ms/step - loss: 11.1152 - mae: 11.1152\n",
            "Epoch 41/100\n",
            "1/1 [==============================] - 0s 10ms/step - loss: 10.9827 - mae: 10.9827\n",
            "Epoch 42/100\n",
            "1/1 [==============================] - 0s 12ms/step - loss: 10.8502 - mae: 10.8502\n",
            "Epoch 43/100\n",
            "1/1 [==============================] - 0s 11ms/step - loss: 10.7177 - mae: 10.7177\n",
            "Epoch 44/100\n",
            "1/1 [==============================] - 0s 11ms/step - loss: 10.5852 - mae: 10.5852\n",
            "Epoch 45/100\n",
            "1/1 [==============================] - 0s 11ms/step - loss: 10.4527 - mae: 10.4527\n",
            "Epoch 46/100\n",
            "1/1 [==============================] - 0s 11ms/step - loss: 10.3202 - mae: 10.3202\n",
            "Epoch 47/100\n",
            "1/1 [==============================] - 0s 11ms/step - loss: 10.1877 - mae: 10.1877\n",
            "Epoch 48/100\n",
            "1/1 [==============================] - 0s 10ms/step - loss: 10.0552 - mae: 10.0552\n",
            "Epoch 49/100\n",
            "1/1 [==============================] - 0s 10ms/step - loss: 9.9227 - mae: 9.9227\n",
            "Epoch 50/100\n",
            "1/1 [==============================] - 0s 10ms/step - loss: 9.7902 - mae: 9.7902\n",
            "Epoch 51/100\n",
            "1/1 [==============================] - 0s 10ms/step - loss: 9.6577 - mae: 9.6577\n",
            "Epoch 52/100\n",
            "1/1 [==============================] - 0s 11ms/step - loss: 9.5252 - mae: 9.5252\n",
            "Epoch 53/100\n",
            "1/1 [==============================] - 0s 12ms/step - loss: 9.3927 - mae: 9.3927\n",
            "Epoch 54/100\n",
            "1/1 [==============================] - 0s 12ms/step - loss: 9.2602 - mae: 9.2602\n",
            "Epoch 55/100\n",
            "1/1 [==============================] - 0s 10ms/step - loss: 9.1277 - mae: 9.1277\n",
            "Epoch 56/100\n",
            "1/1 [==============================] - 0s 10ms/step - loss: 8.9952 - mae: 8.9952\n",
            "Epoch 57/100\n",
            "1/1 [==============================] - 0s 12ms/step - loss: 8.8627 - mae: 8.8627\n",
            "Epoch 58/100\n",
            "1/1 [==============================] - 0s 11ms/step - loss: 8.7302 - mae: 8.7302\n",
            "Epoch 59/100\n",
            "1/1 [==============================] - 0s 11ms/step - loss: 8.5977 - mae: 8.5977\n",
            "Epoch 60/100\n",
            "1/1 [==============================] - 0s 10ms/step - loss: 8.4652 - mae: 8.4652\n",
            "Epoch 61/100\n",
            "1/1 [==============================] - 0s 13ms/step - loss: 8.3327 - mae: 8.3327\n",
            "Epoch 62/100\n",
            "1/1 [==============================] - 0s 9ms/step - loss: 8.2002 - mae: 8.2002\n",
            "Epoch 63/100\n",
            "1/1 [==============================] - 0s 9ms/step - loss: 8.0677 - mae: 8.0677\n",
            "Epoch 64/100\n",
            "1/1 [==============================] - 0s 10ms/step - loss: 7.9352 - mae: 7.9352\n",
            "Epoch 65/100\n",
            "1/1 [==============================] - 0s 10ms/step - loss: 7.8027 - mae: 7.8027\n",
            "Epoch 66/100\n",
            "1/1 [==============================] - 0s 10ms/step - loss: 7.6702 - mae: 7.6702\n",
            "Epoch 67/100\n",
            "1/1 [==============================] - 0s 11ms/step - loss: 7.5377 - mae: 7.5377\n",
            "Epoch 68/100\n",
            "1/1 [==============================] - 0s 10ms/step - loss: 7.4052 - mae: 7.4052\n",
            "Epoch 69/100\n",
            "1/1 [==============================] - 0s 10ms/step - loss: 7.2727 - mae: 7.2727\n",
            "Epoch 70/100\n",
            "1/1 [==============================] - 0s 11ms/step - loss: 7.1402 - mae: 7.1402\n",
            "Epoch 71/100\n",
            "1/1 [==============================] - 0s 10ms/step - loss: 7.0077 - mae: 7.0077\n",
            "Epoch 72/100\n",
            "1/1 [==============================] - 0s 10ms/step - loss: 6.9881 - mae: 6.9881\n",
            "Epoch 73/100\n",
            "1/1 [==============================] - 0s 10ms/step - loss: 6.9825 - mae: 6.9825\n",
            "Epoch 74/100\n",
            "1/1 [==============================] - 0s 10ms/step - loss: 6.9769 - mae: 6.9769\n",
            "Epoch 75/100\n",
            "1/1 [==============================] - 0s 9ms/step - loss: 6.9712 - mae: 6.9712\n",
            "Epoch 76/100\n",
            "1/1 [==============================] - 0s 9ms/step - loss: 6.9656 - mae: 6.9656\n",
            "Epoch 77/100\n",
            "1/1 [==============================] - 0s 9ms/step - loss: 6.9600 - mae: 6.9600\n",
            "Epoch 78/100\n",
            "1/1 [==============================] - 0s 9ms/step - loss: 6.9544 - mae: 6.9544\n",
            "Epoch 79/100\n",
            "1/1 [==============================] - 0s 10ms/step - loss: 6.9488 - mae: 6.9488\n",
            "Epoch 80/100\n",
            "1/1 [==============================] - 0s 9ms/step - loss: 6.9431 - mae: 6.9431\n",
            "Epoch 81/100\n",
            "1/1 [==============================] - 0s 9ms/step - loss: 6.9375 - mae: 6.9375\n",
            "Epoch 82/100\n",
            "1/1 [==============================] - 0s 9ms/step - loss: 6.9319 - mae: 6.9319\n",
            "Epoch 83/100\n",
            "1/1 [==============================] - 0s 9ms/step - loss: 6.9263 - mae: 6.9263\n",
            "Epoch 84/100\n",
            "1/1 [==============================] - 0s 9ms/step - loss: 6.9206 - mae: 6.9206\n",
            "Epoch 85/100\n",
            "1/1 [==============================] - 0s 9ms/step - loss: 6.9150 - mae: 6.9150\n",
            "Epoch 86/100\n",
            "1/1 [==============================] - 0s 9ms/step - loss: 6.9094 - mae: 6.9094\n",
            "Epoch 87/100\n",
            "1/1 [==============================] - 0s 9ms/step - loss: 6.9038 - mae: 6.9038\n",
            "Epoch 88/100\n",
            "1/1 [==============================] - 0s 10ms/step - loss: 6.8981 - mae: 6.8981\n",
            "Epoch 89/100\n",
            "1/1 [==============================] - 0s 9ms/step - loss: 6.8925 - mae: 6.8925\n",
            "Epoch 90/100\n",
            "1/1 [==============================] - 0s 9ms/step - loss: 6.8869 - mae: 6.8869\n",
            "Epoch 91/100\n",
            "1/1 [==============================] - 0s 11ms/step - loss: 6.8812 - mae: 6.8812\n",
            "Epoch 92/100\n",
            "1/1 [==============================] - 0s 10ms/step - loss: 6.8756 - mae: 6.8756\n",
            "Epoch 93/100\n",
            "1/1 [==============================] - 0s 9ms/step - loss: 6.8700 - mae: 6.8700\n",
            "Epoch 94/100\n",
            "1/1 [==============================] - 0s 11ms/step - loss: 6.8644 - mae: 6.8644\n",
            "Epoch 95/100\n",
            "1/1 [==============================] - 0s 10ms/step - loss: 6.8588 - mae: 6.8588\n",
            "Epoch 96/100\n",
            "1/1 [==============================] - 0s 10ms/step - loss: 6.8531 - mae: 6.8531\n",
            "Epoch 97/100\n",
            "1/1 [==============================] - 0s 9ms/step - loss: 6.8475 - mae: 6.8475\n",
            "Epoch 98/100\n",
            "1/1 [==============================] - 0s 10ms/step - loss: 6.8419 - mae: 6.8419\n",
            "Epoch 99/100\n",
            "1/1 [==============================] - 0s 9ms/step - loss: 6.8363 - mae: 6.8363\n",
            "Epoch 100/100\n",
            "1/1 [==============================] - 0s 9ms/step - loss: 6.8306 - mae: 6.8306\n"
          ]
        },
        {
          "output_type": "execute_result",
          "data": {
            "text/plain": [
              "<keras.src.callbacks.History at 0x7d298e4a8dc0>"
            ]
          },
          "metadata": {},
          "execution_count": 10
        }
      ]
    },
    {
      "cell_type": "code",
      "source": [
        "model.predict([17.0])"
      ],
      "metadata": {
        "colab": {
          "base_uri": "https://localhost:8080/"
        },
        "id": "faAMIzhfT8FU",
        "outputId": "91178465-2ddf-49c2-aa61-ecc4ec4389ac"
      },
      "execution_count": null,
      "outputs": [
        {
          "output_type": "stream",
          "name": "stdout",
          "text": [
            "1/1 [==============================] - 0s 142ms/step\n"
          ]
        },
        {
          "output_type": "execute_result",
          "data": {
            "text/plain": [
              "array([[29.76262]], dtype=float32)"
            ]
          },
          "metadata": {},
          "execution_count": 11
        }
      ]
    },
    {
      "cell_type": "markdown",
      "source": [
        "### lets create one more model with some change"
      ],
      "metadata": {
        "id": "mWuYGYycUBrd"
      }
    },
    {
      "cell_type": "code",
      "source": [
        "# 1. Crete a model\n",
        "model = tf.keras.Sequential([\n",
        "    tf.keras.layers.Input(shape=(1,)),\n",
        "    tf.keras.layers.Dense(50, activation=None),\n",
        "    tf.keras.layers.Dense(1)\n",
        "])\n",
        "\n",
        "# 2. Compile the model\n",
        "model.compile(loss = \"mae\",\n",
        "              optimizer = tf.keras.optimizers.Adam(learning_rate=0.01),\n",
        "              metrics = [\"mae\"]\n",
        ")\n",
        "\n",
        "# 3. Fit the model\n",
        "model.fit(x, y, epochs=100)"
      ],
      "metadata": {
        "colab": {
          "base_uri": "https://localhost:8080/"
        },
        "id": "tRunhlHRUyEc",
        "outputId": "c0f65d33-0714-4e38-bd49-69547b1989bc"
      },
      "execution_count": null,
      "outputs": [
        {
          "output_type": "stream",
          "name": "stdout",
          "text": [
            "Epoch 1/100\n",
            "1/1 [==============================] - 1s 788ms/step - loss: 13.3841 - mae: 13.3841\n",
            "Epoch 2/100\n",
            "1/1 [==============================] - 0s 12ms/step - loss: 12.7610 - mae: 12.7610\n",
            "Epoch 3/100\n",
            "1/1 [==============================] - 0s 12ms/step - loss: 12.1373 - mae: 12.1373\n",
            "Epoch 4/100\n",
            "1/1 [==============================] - 0s 16ms/step - loss: 11.5116 - mae: 11.5116\n",
            "Epoch 5/100\n",
            "1/1 [==============================] - 0s 16ms/step - loss: 10.8814 - mae: 10.8814\n",
            "Epoch 6/100\n",
            "1/1 [==============================] - 0s 13ms/step - loss: 10.2432 - mae: 10.2432\n",
            "Epoch 7/100\n",
            "1/1 [==============================] - 0s 12ms/step - loss: 9.5932 - mae: 9.5932\n",
            "Epoch 8/100\n",
            "1/1 [==============================] - 0s 19ms/step - loss: 8.9276 - mae: 8.9276\n",
            "Epoch 9/100\n",
            "1/1 [==============================] - 0s 16ms/step - loss: 8.2431 - mae: 8.2431\n",
            "Epoch 10/100\n",
            "1/1 [==============================] - 0s 12ms/step - loss: 7.5369 - mae: 7.5369\n",
            "Epoch 11/100\n",
            "1/1 [==============================] - 0s 17ms/step - loss: 6.8065 - mae: 6.8065\n",
            "Epoch 12/100\n",
            "1/1 [==============================] - 0s 12ms/step - loss: 6.7283 - mae: 6.7283\n",
            "Epoch 13/100\n",
            "1/1 [==============================] - 0s 10ms/step - loss: 7.0495 - mae: 7.0495\n",
            "Epoch 14/100\n",
            "1/1 [==============================] - 0s 13ms/step - loss: 7.2636 - mae: 7.2636\n",
            "Epoch 15/100\n",
            "1/1 [==============================] - 0s 14ms/step - loss: 7.4772 - mae: 7.4772\n",
            "Epoch 16/100\n",
            "1/1 [==============================] - 0s 11ms/step - loss: 7.5176 - mae: 7.5176\n",
            "Epoch 17/100\n",
            "1/1 [==============================] - 0s 11ms/step - loss: 7.3839 - mae: 7.3839\n",
            "Epoch 18/100\n",
            "1/1 [==============================] - 0s 11ms/step - loss: 7.1185 - mae: 7.1185\n",
            "Epoch 19/100\n",
            "1/1 [==============================] - 0s 14ms/step - loss: 6.8626 - mae: 6.8626\n",
            "Epoch 20/100\n",
            "1/1 [==============================] - 0s 13ms/step - loss: 6.6155 - mae: 6.6155\n",
            "Epoch 21/100\n",
            "1/1 [==============================] - 0s 13ms/step - loss: 6.3562 - mae: 6.3562\n",
            "Epoch 22/100\n",
            "1/1 [==============================] - 0s 11ms/step - loss: 6.1238 - mae: 6.1238\n",
            "Epoch 23/100\n",
            "1/1 [==============================] - 0s 13ms/step - loss: 6.0851 - mae: 6.0851\n",
            "Epoch 24/100\n",
            "1/1 [==============================] - 0s 12ms/step - loss: 6.0421 - mae: 6.0421\n",
            "Epoch 25/100\n",
            "1/1 [==============================] - 0s 11ms/step - loss: 6.1568 - mae: 6.1568\n",
            "Epoch 26/100\n",
            "1/1 [==============================] - 0s 18ms/step - loss: 6.1911 - mae: 6.1911\n",
            "Epoch 27/100\n",
            "1/1 [==============================] - 0s 12ms/step - loss: 6.1312 - mae: 6.1312\n",
            "Epoch 28/100\n",
            "1/1 [==============================] - 0s 15ms/step - loss: 5.9878 - mae: 5.9878\n",
            "Epoch 29/100\n",
            "1/1 [==============================] - 0s 18ms/step - loss: 5.7688 - mae: 5.7688\n",
            "Epoch 30/100\n",
            "1/1 [==============================] - 0s 10ms/step - loss: 5.5857 - mae: 5.5857\n",
            "Epoch 31/100\n",
            "1/1 [==============================] - 0s 14ms/step - loss: 5.4799 - mae: 5.4799\n",
            "Epoch 32/100\n",
            "1/1 [==============================] - 0s 12ms/step - loss: 5.3709 - mae: 5.3709\n",
            "Epoch 33/100\n",
            "1/1 [==============================] - 0s 13ms/step - loss: 5.3843 - mae: 5.3843\n",
            "Epoch 34/100\n",
            "1/1 [==============================] - 0s 10ms/step - loss: 5.3723 - mae: 5.3723\n",
            "Epoch 35/100\n",
            "1/1 [==============================] - 0s 10ms/step - loss: 5.3193 - mae: 5.3193\n",
            "Epoch 36/100\n",
            "1/1 [==============================] - 0s 11ms/step - loss: 5.2284 - mae: 5.2284\n",
            "Epoch 37/100\n",
            "1/1 [==============================] - 0s 11ms/step - loss: 5.1027 - mae: 5.1027\n",
            "Epoch 38/100\n",
            "1/1 [==============================] - 0s 13ms/step - loss: 4.9453 - mae: 4.9453\n",
            "Epoch 39/100\n",
            "1/1 [==============================] - 0s 13ms/step - loss: 4.7590 - mae: 4.7590\n",
            "Epoch 40/100\n",
            "1/1 [==============================] - 0s 10ms/step - loss: 4.6018 - mae: 4.6018\n",
            "Epoch 41/100\n",
            "1/1 [==============================] - 0s 10ms/step - loss: 4.5103 - mae: 4.5103\n",
            "Epoch 42/100\n",
            "1/1 [==============================] - 0s 10ms/step - loss: 4.4102 - mae: 4.4102\n",
            "Epoch 43/100\n",
            "1/1 [==============================] - 0s 14ms/step - loss: 4.3239 - mae: 4.3239\n",
            "Epoch 44/100\n",
            "1/1 [==============================] - 0s 22ms/step - loss: 4.1944 - mae: 4.1944\n",
            "Epoch 45/100\n",
            "1/1 [==============================] - 0s 12ms/step - loss: 4.0250 - mae: 4.0250\n",
            "Epoch 46/100\n",
            "1/1 [==============================] - 0s 13ms/step - loss: 3.8698 - mae: 3.8698\n",
            "Epoch 47/100\n",
            "1/1 [==============================] - 0s 11ms/step - loss: 3.7068 - mae: 3.7068\n",
            "Epoch 48/100\n",
            "1/1 [==============================] - 0s 10ms/step - loss: 3.5883 - mae: 3.5883\n",
            "Epoch 49/100\n",
            "1/1 [==============================] - 0s 10ms/step - loss: 3.4644 - mae: 3.4644\n",
            "Epoch 50/100\n",
            "1/1 [==============================] - 0s 12ms/step - loss: 3.2905 - mae: 3.2905\n",
            "Epoch 51/100\n",
            "1/1 [==============================] - 0s 10ms/step - loss: 3.0689 - mae: 3.0689\n",
            "Epoch 52/100\n",
            "1/1 [==============================] - 0s 9ms/step - loss: 2.8810 - mae: 2.8810\n",
            "Epoch 53/100\n",
            "1/1 [==============================] - 0s 9ms/step - loss: 2.7074 - mae: 2.7074\n",
            "Epoch 54/100\n",
            "1/1 [==============================] - 0s 9ms/step - loss: 2.5949 - mae: 2.5949\n",
            "Epoch 55/100\n",
            "1/1 [==============================] - 0s 9ms/step - loss: 2.3552 - mae: 2.3552\n",
            "Epoch 56/100\n",
            "1/1 [==============================] - 0s 9ms/step - loss: 2.0736 - mae: 2.0736\n",
            "Epoch 57/100\n",
            "1/1 [==============================] - 0s 9ms/step - loss: 1.9019 - mae: 1.9019\n",
            "Epoch 58/100\n",
            "1/1 [==============================] - 0s 13ms/step - loss: 1.7245 - mae: 1.7245\n",
            "Epoch 59/100\n",
            "1/1 [==============================] - 0s 14ms/step - loss: 1.4792 - mae: 1.4792\n",
            "Epoch 60/100\n",
            "1/1 [==============================] - 0s 9ms/step - loss: 1.1688 - mae: 1.1688\n",
            "Epoch 61/100\n",
            "1/1 [==============================] - 0s 12ms/step - loss: 0.8544 - mae: 0.8544\n",
            "Epoch 62/100\n",
            "1/1 [==============================] - 0s 10ms/step - loss: 0.7554 - mae: 0.7554\n",
            "Epoch 63/100\n",
            "1/1 [==============================] - 0s 12ms/step - loss: 0.4618 - mae: 0.4618\n",
            "Epoch 64/100\n",
            "1/1 [==============================] - 0s 11ms/step - loss: 0.0131 - mae: 0.0131\n",
            "Epoch 65/100\n",
            "1/1 [==============================] - 0s 14ms/step - loss: 0.2356 - mae: 0.2356\n",
            "Epoch 66/100\n",
            "1/1 [==============================] - 0s 14ms/step - loss: 0.4048 - mae: 0.4048\n",
            "Epoch 67/100\n",
            "1/1 [==============================] - 0s 14ms/step - loss: 0.5414 - mae: 0.5414\n",
            "Epoch 68/100\n",
            "1/1 [==============================] - 0s 14ms/step - loss: 0.5831 - mae: 0.5831\n",
            "Epoch 69/100\n",
            "1/1 [==============================] - 0s 14ms/step - loss: 0.5918 - mae: 0.5918\n",
            "Epoch 70/100\n",
            "1/1 [==============================] - 0s 10ms/step - loss: 0.6036 - mae: 0.6036\n",
            "Epoch 71/100\n",
            "1/1 [==============================] - 0s 12ms/step - loss: 0.5011 - mae: 0.5011\n",
            "Epoch 72/100\n",
            "1/1 [==============================] - 0s 13ms/step - loss: 0.4565 - mae: 0.4565\n",
            "Epoch 73/100\n",
            "1/1 [==============================] - 0s 11ms/step - loss: 0.3012 - mae: 0.3012\n",
            "Epoch 74/100\n",
            "1/1 [==============================] - 0s 11ms/step - loss: 0.2352 - mae: 0.2352\n",
            "Epoch 75/100\n",
            "1/1 [==============================] - 0s 10ms/step - loss: 0.0400 - mae: 0.0400\n",
            "Epoch 76/100\n",
            "1/1 [==============================] - 0s 12ms/step - loss: 0.2675 - mae: 0.2675\n",
            "Epoch 77/100\n",
            "1/1 [==============================] - 0s 11ms/step - loss: 0.2633 - mae: 0.2633\n",
            "Epoch 78/100\n",
            "1/1 [==============================] - 0s 10ms/step - loss: 0.3987 - mae: 0.3987\n",
            "Epoch 79/100\n",
            "1/1 [==============================] - 0s 14ms/step - loss: 0.4170 - mae: 0.4170\n",
            "Epoch 80/100\n",
            "1/1 [==============================] - 0s 12ms/step - loss: 0.3551 - mae: 0.3551\n",
            "Epoch 81/100\n",
            "1/1 [==============================] - 0s 18ms/step - loss: 0.3765 - mae: 0.3765\n",
            "Epoch 82/100\n",
            "1/1 [==============================] - 0s 14ms/step - loss: 0.2459 - mae: 0.2459\n",
            "Epoch 83/100\n",
            "1/1 [==============================] - 0s 13ms/step - loss: 0.3014 - mae: 0.3014\n",
            "Epoch 84/100\n",
            "1/1 [==============================] - 0s 18ms/step - loss: 0.2357 - mae: 0.2357\n",
            "Epoch 85/100\n",
            "1/1 [==============================] - 0s 12ms/step - loss: 0.0914 - mae: 0.0914\n",
            "Epoch 86/100\n",
            "1/1 [==============================] - 0s 13ms/step - loss: 0.1555 - mae: 0.1555\n",
            "Epoch 87/100\n",
            "1/1 [==============================] - 0s 15ms/step - loss: 0.2080 - mae: 0.2080\n",
            "Epoch 88/100\n",
            "1/1 [==============================] - 0s 13ms/step - loss: 0.1504 - mae: 0.1504\n",
            "Epoch 89/100\n",
            "1/1 [==============================] - 0s 14ms/step - loss: 0.2229 - mae: 0.2229\n",
            "Epoch 90/100\n",
            "1/1 [==============================] - 0s 10ms/step - loss: 0.1527 - mae: 0.1527\n",
            "Epoch 91/100\n",
            "1/1 [==============================] - 0s 10ms/step - loss: 0.0906 - mae: 0.0906\n",
            "Epoch 92/100\n",
            "1/1 [==============================] - 0s 10ms/step - loss: 0.0848 - mae: 0.0848\n",
            "Epoch 93/100\n",
            "1/1 [==============================] - 0s 10ms/step - loss: 0.1175 - mae: 0.1175\n",
            "Epoch 94/100\n",
            "1/1 [==============================] - 0s 11ms/step - loss: 0.1167 - mae: 0.1167\n",
            "Epoch 95/100\n",
            "1/1 [==============================] - 0s 13ms/step - loss: 0.1315 - mae: 0.1315\n",
            "Epoch 96/100\n",
            "1/1 [==============================] - 0s 12ms/step - loss: 0.0554 - mae: 0.0554\n",
            "Epoch 97/100\n",
            "1/1 [==============================] - 0s 14ms/step - loss: 0.1411 - mae: 0.1411\n",
            "Epoch 98/100\n",
            "1/1 [==============================] - 0s 10ms/step - loss: 0.1098 - mae: 0.1098\n",
            "Epoch 99/100\n",
            "1/1 [==============================] - 0s 13ms/step - loss: 0.1195 - mae: 0.1195\n",
            "Epoch 100/100\n",
            "1/1 [==============================] - 0s 9ms/step - loss: 0.1070 - mae: 0.1070\n"
          ]
        },
        {
          "output_type": "execute_result",
          "data": {
            "text/plain": [
              "<keras.src.callbacks.History at 0x7d298db5dd80>"
            ]
          },
          "metadata": {},
          "execution_count": 12
        }
      ]
    },
    {
      "cell_type": "code",
      "source": [
        "model.predict([17.0])"
      ],
      "metadata": {
        "colab": {
          "base_uri": "https://localhost:8080/"
        },
        "id": "h1RK6HApV2Jl",
        "outputId": "812fa0df-facf-4f8e-d806-d1c1748d39de"
      },
      "execution_count": null,
      "outputs": [
        {
          "output_type": "stream",
          "name": "stdout",
          "text": [
            "1/1 [==============================] - 0s 65ms/step\n"
          ]
        },
        {
          "output_type": "execute_result",
          "data": {
            "text/plain": [
              "array([[26.626482]], dtype=float32)"
            ]
          },
          "metadata": {},
          "execution_count": 13
        }
      ]
    },
    {
      "cell_type": "markdown",
      "source": [
        "### Evaluting Model"
      ],
      "metadata": {
        "id": "EOcMQz_GV7_Z"
      }
    },
    {
      "cell_type": "code",
      "source": [
        "import tensorflow as tf\n",
        "import matplotlib.pyplot as plt\n"
      ],
      "metadata": {
        "id": "lk7bNs8KInz2"
      },
      "execution_count": null,
      "outputs": []
    },
    {
      "cell_type": "code",
      "source": [
        "x = tf.range(-100, 100, 4)\n",
        "x"
      ],
      "metadata": {
        "colab": {
          "base_uri": "https://localhost:8080/"
        },
        "id": "drGhJ4llItbR",
        "outputId": "9e8c90b7-491e-497b-a155-7493aad91be3"
      },
      "execution_count": null,
      "outputs": [
        {
          "output_type": "execute_result",
          "data": {
            "text/plain": [
              "<tf.Tensor: shape=(50,), dtype=int32, numpy=\n",
              "array([-100,  -96,  -92,  -88,  -84,  -80,  -76,  -72,  -68,  -64,  -60,\n",
              "        -56,  -52,  -48,  -44,  -40,  -36,  -32,  -28,  -24,  -20,  -16,\n",
              "        -12,   -8,   -4,    0,    4,    8,   12,   16,   20,   24,   28,\n",
              "         32,   36,   40,   44,   48,   52,   56,   60,   64,   68,   72,\n",
              "         76,   80,   84,   88,   92,   96], dtype=int32)>"
            ]
          },
          "metadata": {},
          "execution_count": 15
        }
      ]
    },
    {
      "cell_type": "code",
      "source": [
        "y = x + 10\n",
        "y"
      ],
      "metadata": {
        "colab": {
          "base_uri": "https://localhost:8080/"
        },
        "id": "C1mZYBPWI8zU",
        "outputId": "9f3f50db-06f7-481a-ef18-9cf2af27f994"
      },
      "execution_count": null,
      "outputs": [
        {
          "output_type": "execute_result",
          "data": {
            "text/plain": [
              "<tf.Tensor: shape=(50,), dtype=int32, numpy=\n",
              "array([-90, -86, -82, -78, -74, -70, -66, -62, -58, -54, -50, -46, -42,\n",
              "       -38, -34, -30, -26, -22, -18, -14, -10,  -6,  -2,   2,   6,  10,\n",
              "        14,  18,  22,  26,  30,  34,  38,  42,  46,  50,  54,  58,  62,\n",
              "        66,  70,  74,  78,  82,  86,  90,  94,  98, 102, 106], dtype=int32)>"
            ]
          },
          "metadata": {},
          "execution_count": 16
        }
      ]
    },
    {
      "cell_type": "code",
      "source": [
        "plt.scatter(x, y)"
      ],
      "metadata": {
        "colab": {
          "base_uri": "https://localhost:8080/",
          "height": 447
        },
        "id": "NSY6CJEdI_CL",
        "outputId": "dfaec189-9147-4c91-f65c-207712388458"
      },
      "execution_count": null,
      "outputs": [
        {
          "output_type": "execute_result",
          "data": {
            "text/plain": [
              "<matplotlib.collections.PathCollection at 0x7d298da979d0>"
            ]
          },
          "metadata": {},
          "execution_count": 17
        },
        {
          "output_type": "display_data",
          "data": {
            "text/plain": [
              "<Figure size 640x480 with 1 Axes>"
            ],
            "image/png": "[encoded data removed]"
          },
          "metadata": {}
        }
      ]
    },
    {
      "cell_type": "code",
      "source": [
        "len(x)"
      ],
      "metadata": {
        "colab": {
          "base_uri": "https://localhost:8080/"
        },
        "id": "uLhMFe2NJQc9",
        "outputId": "611914fd-a737-4cd4-d6f3-7955a6b432b0"
      },
      "execution_count": null,
      "outputs": [
        {
          "output_type": "execute_result",
          "data": {
            "text/plain": [
              "50"
            ]
          },
          "metadata": {},
          "execution_count": 18
        }
      ]
    },
    {
      "cell_type": "code",
      "source": [
        "x_train = x[:40]\n",
        "y_train = y[:40]\n",
        "\n",
        "x_test = x[40:]\n",
        "y_test = y[40:]\n",
        "\n",
        "x_train, y_train, x_test, y_test"
      ],
      "metadata": {
        "colab": {
          "base_uri": "https://localhost:8080/"
        },
        "id": "5rp89OP3JaKj",
        "outputId": "bfcc408b-0923-4c4b-caf5-527f630e4057"
      },
      "execution_count": null,
      "outputs": [
        {
          "output_type": "execute_result",
          "data": {
            "text/plain": [
              "(<tf.Tensor: shape=(40,), dtype=int32, numpy=\n",
              " array([-100,  -96,  -92,  -88,  -84,  -80,  -76,  -72,  -68,  -64,  -60,\n",
              "         -56,  -52,  -48,  -44,  -40,  -36,  -32,  -28,  -24,  -20,  -16,\n",
              "         -12,   -8,   -4,    0,    4,    8,   12,   16,   20,   24,   28,\n",
              "          32,   36,   40,   44,   48,   52,   56], dtype=int32)>,\n",
              " <tf.Tensor: shape=(40,), dtype=int32, numpy=\n",
              " array([-90, -86, -82, -78, -74, -70, -66, -62, -58, -54, -50, -46, -42,\n",
              "        -38, -34, -30, -26, -22, -18, -14, -10,  -6,  -2,   2,   6,  10,\n",
              "         14,  18,  22,  26,  30,  34,  38,  42,  46,  50,  54,  58,  62,\n",
              "         66], dtype=int32)>,\n",
              " <tf.Tensor: shape=(10,), dtype=int32, numpy=array([60, 64, 68, 72, 76, 80, 84, 88, 92, 96], dtype=int32)>,\n",
              " <tf.Tensor: shape=(10,), dtype=int32, numpy=array([ 70,  74,  78,  82,  86,  90,  94,  98, 102, 106], dtype=int32)>)"
            ]
          },
          "metadata": {},
          "execution_count": 19
        }
      ]
    },
    {
      "cell_type": "markdown",
      "source": [
        "### Visualing of data\n",
        "\n",
        "Now we've got out data in taining and test set, let's visualise it"
      ],
      "metadata": {
        "id": "sU71KhGRJtTN"
      }
    },
    {
      "cell_type": "code",
      "source": [
        "plt.figure(figsize = (10, 7))\n",
        "# plt training data set in blue\n",
        "plt.scatter(x_train, y_train, c=\"b\", label=\"Training data\")\n",
        "\n",
        "# plt test data set in green\n",
        "plt.scatter(x_test, y_test, c=\"g\", label=\"Test data\")\n",
        "plt.legend();"
      ],
      "metadata": {
        "colab": {
          "base_uri": "https://localhost:8080/",
          "height": 599
        },
        "id": "r3a0DgwIKTUP",
        "outputId": "7fb3ee61-d448-45de-83f6-eec01f2f7b27"
      },
      "execution_count": null,
      "outputs": [
        {
          "output_type": "display_data",
          "data": {
            "text/plain": [
              "<Figure size 1000x700 with 1 Axes>"
            ],
            "image/png": "[encoded data removed]"
          },
          "metadata": {}
        }
      ]
    },
    {
      "cell_type": "code",
      "source": [
        "# Let's have to look how to build a nerual network model\n",
        "\n",
        "# 1. Create a model\n",
        "model = tf.keras.Sequential([\n",
        "    tf.keras.layers.Dense(1)\n",
        "])\n",
        "\n",
        "# 2. Compile a model\n",
        "model.compile(loss=tf.keras.losses.mae,\n",
        "              optimizer=tf.keras.optimizers.SGD(),\n",
        "              metrics = [\"mae\"])\n",
        "\n",
        "# # Fit a model\n",
        "# model.fit(x_train, y_train, epochs=100)\n"
      ],
      "metadata": {
        "id": "XFWn2oxqKw4n"
      },
      "execution_count": null,
      "outputs": []
    },
    {
      "cell_type": "code",
      "source": [
        "# model.summary()"
      ],
      "metadata": {
        "id": "4gS0HJoVL8qV"
      },
      "execution_count": null,
      "outputs": []
    },
    {
      "cell_type": "markdown",
      "source": [
        "### Visualizing the model\n"
      ],
      "metadata": {
        "id": "pUAPNLRdMedb"
      }
    },
    {
      "cell_type": "code",
      "source": [
        "## lets create a auto build model\n",
        "\n",
        "\n",
        "# 1. Create a model\n",
        "model = tf.keras.Sequential([\n",
        "    # tf.keras.layers.Input(shape=(1,)),\n",
        "    tf.keras.layers.Dense(10, input_shape=[1], name=\"Input_layer\"),\n",
        "    tf.keras.layers.Dense(1,  name=\"Output_layer\")\n",
        "\n",
        "])\n",
        "\n",
        "model.compile(loss = tf.keras.losses.mae,\n",
        "              optimizer = tf.keras.optimizers.SGD(),\n",
        "              metrics = [\"mae\"])\n"
      ],
      "metadata": {
        "id": "SuqeenixVBVQ"
      },
      "execution_count": null,
      "outputs": []
    },
    {
      "cell_type": "code",
      "source": [
        "model.summary()"
      ],
      "metadata": {
        "colab": {
          "base_uri": "https://localhost:8080/"
        },
        "id": "PnRtqHSdV3cT",
        "outputId": "f3b84d12-8aae-4190-ef1e-05a9d7a9be78"
      },
      "execution_count": null,
      "outputs": [
        {
          "output_type": "stream",
          "name": "stdout",
          "text": [
            "Model: \"sequential_4\"\n",
            "_________________________________________________________________\n",
            " Layer (type)                Output Shape              Param #   \n",
            "=================================================================\n",
            " Input_layer (Dense)         (None, 10)                20        \n",
            "                                                                 \n",
            " Output_layer (Dense)        (None, 1)                 11        \n",
            "                                                                 \n",
            "=================================================================\n",
            "Total params: 31 (124.00 Byte)\n",
            "Trainable params: 31 (124.00 Byte)\n",
            "Non-trainable params: 0 (0.00 Byte)\n",
            "_________________________________________________________________\n"
          ]
        }
      ]
    },
    {
      "cell_type": "markdown",
      "source": [
        "* Total Param :- total number of parameters in the model\n",
        "* Trainable params :- these are the parameters (patterns) model can update as it train\n",
        "* Non Trainable params :- these parameters aren't update during training (this is typically when you bring in already learned patterns or parameters from another models during transfer learning)"
      ],
      "metadata": {
        "id": "Oq5clKvfV8Bn"
      }
    },
    {
      "cell_type": "code",
      "source": [
        "# lets fit the model\n",
        "model.fit(x_train, y_train, epochs=100, verbose=1)\n"
      ],
      "metadata": {
        "colab": {
          "base_uri": "https://localhost:8080/"
        },
        "id": "3nIbNDsnlRgT",
        "outputId": "9e447922-22e9-40ff-dd0e-b5f626d3652f"
      },
      "execution_count": null,
      "outputs": [
        {
          "output_type": "stream",
          "name": "stdout",
          "text": [
            "Epoch 1/100\n",
            "2/2 [==============================] - 0s 7ms/step - loss: 43.8191 - mae: 43.8191\n",
            "Epoch 2/100\n",
            "2/2 [==============================] - 0s 7ms/step - loss: 33.0971 - mae: 33.0971\n",
            "Epoch 3/100\n",
            "2/2 [==============================] - 0s 7ms/step - loss: 37.4686 - mae: 37.4686\n",
            "Epoch 4/100\n",
            "2/2 [==============================] - 0s 7ms/step - loss: 26.6396 - mae: 26.6396\n",
            "Epoch 5/100\n",
            "2/2 [==============================] - 0s 9ms/step - loss: 14.5977 - mae: 14.5977\n",
            "Epoch 6/100\n",
            "2/2 [==============================] - 0s 7ms/step - loss: 11.6583 - mae: 11.6583\n",
            "Epoch 7/100\n",
            "2/2 [==============================] - 0s 7ms/step - loss: 12.7350 - mae: 12.7350\n",
            "Epoch 8/100\n",
            "2/2 [==============================] - 0s 10ms/step - loss: 11.0826 - mae: 11.0826\n",
            "Epoch 9/100\n",
            "2/2 [==============================] - 0s 10ms/step - loss: 40.1031 - mae: 40.1031\n",
            "Epoch 10/100\n",
            "2/2 [==============================] - 0s 7ms/step - loss: 27.5435 - mae: 27.5435\n",
            "Epoch 11/100\n",
            "2/2 [==============================] - 0s 7ms/step - loss: 10.2541 - mae: 10.2541\n",
            "Epoch 12/100\n",
            "2/2 [==============================] - 0s 9ms/step - loss: 25.4222 - mae: 25.4222\n",
            "Epoch 13/100\n",
            "2/2 [==============================] - 0s 9ms/step - loss: 16.8453 - mae: 16.8453\n",
            "Epoch 14/100\n",
            "2/2 [==============================] - 0s 9ms/step - loss: 25.6552 - mae: 25.6552\n",
            "Epoch 15/100\n",
            "2/2 [==============================] - 0s 8ms/step - loss: 17.5316 - mae: 17.5316\n",
            "Epoch 16/100\n",
            "2/2 [==============================] - 0s 8ms/step - loss: 10.0357 - mae: 10.0357\n",
            "Epoch 17/100\n",
            "2/2 [==============================] - 0s 9ms/step - loss: 18.5506 - mae: 18.5506\n",
            "Epoch 18/100\n",
            "2/2 [==============================] - 0s 8ms/step - loss: 11.3704 - mae: 11.3704\n",
            "Epoch 19/100\n",
            "2/2 [==============================] - 0s 8ms/step - loss: 13.9667 - mae: 13.9667\n",
            "Epoch 20/100\n",
            "2/2 [==============================] - 0s 7ms/step - loss: 11.2112 - mae: 11.2112\n",
            "Epoch 21/100\n",
            "2/2 [==============================] - 0s 7ms/step - loss: 17.2883 - mae: 17.2883\n",
            "Epoch 22/100\n",
            "2/2 [==============================] - 0s 7ms/step - loss: 15.5249 - mae: 15.5249\n",
            "Epoch 23/100\n",
            "2/2 [==============================] - 0s 7ms/step - loss: 9.2371 - mae: 9.2371\n",
            "Epoch 24/100\n",
            "2/2 [==============================] - 0s 7ms/step - loss: 17.2600 - mae: 17.2600\n",
            "Epoch 25/100\n",
            "2/2 [==============================] - 0s 7ms/step - loss: 15.9348 - mae: 15.9348\n",
            "Epoch 26/100\n",
            "2/2 [==============================] - 0s 9ms/step - loss: 20.9229 - mae: 20.9229\n",
            "Epoch 27/100\n",
            "2/2 [==============================] - 0s 9ms/step - loss: 25.9805 - mae: 25.9805\n",
            "Epoch 28/100\n",
            "2/2 [==============================] - 0s 9ms/step - loss: 18.4759 - mae: 18.4759\n",
            "Epoch 29/100\n",
            "2/2 [==============================] - 0s 7ms/step - loss: 9.2416 - mae: 9.2416\n",
            "Epoch 30/100\n",
            "2/2 [==============================] - 0s 7ms/step - loss: 29.0933 - mae: 29.0933\n",
            "Epoch 31/100\n",
            "2/2 [==============================] - 0s 7ms/step - loss: 52.6941 - mae: 52.6941\n",
            "Epoch 32/100\n",
            "2/2 [==============================] - 0s 7ms/step - loss: 11.9278 - mae: 11.9278\n",
            "Epoch 33/100\n",
            "2/2 [==============================] - 0s 7ms/step - loss: 15.5233 - mae: 15.5233\n",
            "Epoch 34/100\n",
            "2/2 [==============================] - 0s 11ms/step - loss: 12.6140 - mae: 12.6140\n",
            "Epoch 35/100\n",
            "2/2 [==============================] - 0s 8ms/step - loss: 9.2040 - mae: 9.2040\n",
            "Epoch 36/100\n",
            "2/2 [==============================] - 0s 12ms/step - loss: 16.5110 - mae: 16.5110\n",
            "Epoch 37/100\n",
            "2/2 [==============================] - 0s 9ms/step - loss: 11.0751 - mae: 11.0751\n",
            "Epoch 38/100\n",
            "2/2 [==============================] - 0s 7ms/step - loss: 18.2038 - mae: 18.2038\n",
            "Epoch 39/100\n",
            "2/2 [==============================] - 0s 7ms/step - loss: 19.1369 - mae: 19.1369\n",
            "Epoch 40/100\n",
            "2/2 [==============================] - 0s 7ms/step - loss: 20.4975 - mae: 20.4975\n",
            "Epoch 41/100\n",
            "2/2 [==============================] - 0s 9ms/step - loss: 14.8263 - mae: 14.8263\n",
            "Epoch 42/100\n",
            "2/2 [==============================] - 0s 7ms/step - loss: 12.2175 - mae: 12.2175\n",
            "Epoch 43/100\n",
            "2/2 [==============================] - 0s 7ms/step - loss: 10.7003 - mae: 10.7003\n",
            "Epoch 44/100\n",
            "2/2 [==============================] - 0s 7ms/step - loss: 32.3295 - mae: 32.3295\n",
            "Epoch 45/100\n",
            "2/2 [==============================] - 0s 12ms/step - loss: 12.4838 - mae: 12.4838\n",
            "Epoch 46/100\n",
            "2/2 [==============================] - 0s 7ms/step - loss: 17.5640 - mae: 17.5640\n",
            "Epoch 47/100\n",
            "2/2 [==============================] - 0s 8ms/step - loss: 15.7376 - mae: 15.7376\n",
            "Epoch 48/100\n",
            "2/2 [==============================] - 0s 8ms/step - loss: 8.3639 - mae: 8.3639\n",
            "Epoch 49/100\n",
            "2/2 [==============================] - 0s 8ms/step - loss: 13.9695 - mae: 13.9695\n",
            "Epoch 50/100\n",
            "2/2 [==============================] - 0s 7ms/step - loss: 12.8133 - mae: 12.8133\n",
            "Epoch 51/100\n",
            "2/2 [==============================] - 0s 8ms/step - loss: 14.8268 - mae: 14.8268\n",
            "Epoch 52/100\n",
            "2/2 [==============================] - 0s 7ms/step - loss: 18.7143 - mae: 18.7143\n",
            "Epoch 53/100\n",
            "2/2 [==============================] - 0s 7ms/step - loss: 24.1533 - mae: 24.1533\n",
            "Epoch 54/100\n",
            "2/2 [==============================] - 0s 9ms/step - loss: 23.2149 - mae: 23.2149\n",
            "Epoch 55/100\n",
            "2/2 [==============================] - 0s 8ms/step - loss: 24.0726 - mae: 24.0726\n",
            "Epoch 56/100\n",
            "2/2 [==============================] - 0s 7ms/step - loss: 11.1723 - mae: 11.1723\n",
            "Epoch 57/100\n",
            "2/2 [==============================] - 0s 8ms/step - loss: 13.1316 - mae: 13.1316\n",
            "Epoch 58/100\n",
            "2/2 [==============================] - 0s 8ms/step - loss: 9.8188 - mae: 9.8188\n",
            "Epoch 59/100\n",
            "2/2 [==============================] - 0s 7ms/step - loss: 13.3203 - mae: 13.3203\n",
            "Epoch 60/100\n",
            "2/2 [==============================] - 0s 7ms/step - loss: 10.8786 - mae: 10.8786\n",
            "Epoch 61/100\n",
            "2/2 [==============================] - 0s 7ms/step - loss: 13.4842 - mae: 13.4842\n",
            "Epoch 62/100\n",
            "2/2 [==============================] - 0s 8ms/step - loss: 17.5240 - mae: 17.5240\n",
            "Epoch 63/100\n",
            "2/2 [==============================] - 0s 8ms/step - loss: 9.1640 - mae: 9.1640\n",
            "Epoch 64/100\n",
            "2/2 [==============================] - 0s 7ms/step - loss: 18.3948 - mae: 18.3948\n",
            "Epoch 65/100\n",
            "2/2 [==============================] - 0s 7ms/step - loss: 10.1195 - mae: 10.1195\n",
            "Epoch 66/100\n",
            "2/2 [==============================] - 0s 8ms/step - loss: 24.2618 - mae: 24.2618\n",
            "Epoch 67/100\n",
            "2/2 [==============================] - 0s 8ms/step - loss: 10.8902 - mae: 10.8902\n",
            "Epoch 68/100\n",
            "2/2 [==============================] - 0s 7ms/step - loss: 10.7715 - mae: 10.7715\n",
            "Epoch 69/100\n",
            "2/2 [==============================] - 0s 7ms/step - loss: 23.2485 - mae: 23.2485\n",
            "Epoch 70/100\n",
            "2/2 [==============================] - 0s 8ms/step - loss: 8.8149 - mae: 8.8149\n",
            "Epoch 71/100\n",
            "2/2 [==============================] - 0s 8ms/step - loss: 15.9812 - mae: 15.9812\n",
            "Epoch 72/100\n",
            "2/2 [==============================] - 0s 8ms/step - loss: 8.1421 - mae: 8.1421\n",
            "Epoch 73/100\n",
            "2/2 [==============================] - 0s 8ms/step - loss: 9.4648 - mae: 9.4648\n",
            "Epoch 74/100\n",
            "2/2 [==============================] - 0s 7ms/step - loss: 28.1578 - mae: 28.1578\n",
            "Epoch 75/100\n",
            "2/2 [==============================] - 0s 8ms/step - loss: 10.1951 - mae: 10.1951\n",
            "Epoch 76/100\n",
            "2/2 [==============================] - 0s 8ms/step - loss: 13.1448 - mae: 13.1448\n",
            "Epoch 77/100\n",
            "2/2 [==============================] - 0s 8ms/step - loss: 18.3829 - mae: 18.3829\n",
            "Epoch 78/100\n",
            "2/2 [==============================] - 0s 8ms/step - loss: 9.0141 - mae: 9.0141\n",
            "Epoch 79/100\n",
            "2/2 [==============================] - 0s 10ms/step - loss: 23.4318 - mae: 23.4318\n",
            "Epoch 80/100\n",
            "2/2 [==============================] - 0s 7ms/step - loss: 26.1008 - mae: 26.1008\n",
            "Epoch 81/100\n",
            "2/2 [==============================] - 0s 7ms/step - loss: 11.3832 - mae: 11.3832\n",
            "Epoch 82/100\n",
            "2/2 [==============================] - 0s 8ms/step - loss: 12.4979 - mae: 12.4979\n",
            "Epoch 83/100\n",
            "2/2 [==============================] - 0s 9ms/step - loss: 17.1865 - mae: 17.1865\n",
            "Epoch 84/100\n",
            "2/2 [==============================] - 0s 10ms/step - loss: 6.5945 - mae: 6.5945\n",
            "Epoch 85/100\n",
            "2/2 [==============================] - 0s 7ms/step - loss: 20.2842 - mae: 20.2842\n",
            "Epoch 86/100\n",
            "2/2 [==============================] - 0s 7ms/step - loss: 10.1648 - mae: 10.1648\n",
            "Epoch 87/100\n",
            "2/2 [==============================] - 0s 7ms/step - loss: 24.3262 - mae: 24.3262\n",
            "Epoch 88/100\n",
            "2/2 [==============================] - 0s 7ms/step - loss: 18.9912 - mae: 18.9912\n",
            "Epoch 89/100\n",
            "2/2 [==============================] - 0s 7ms/step - loss: 7.1625 - mae: 7.1625\n",
            "Epoch 90/100\n",
            "2/2 [==============================] - 0s 7ms/step - loss: 18.2618 - mae: 18.2618\n",
            "Epoch 91/100\n",
            "2/2 [==============================] - 0s 7ms/step - loss: 13.3116 - mae: 13.3116\n",
            "Epoch 92/100\n",
            "2/2 [==============================] - 0s 7ms/step - loss: 14.8631 - mae: 14.8631\n",
            "Epoch 93/100\n",
            "2/2 [==============================] - 0s 7ms/step - loss: 11.6540 - mae: 11.6540\n",
            "Epoch 94/100\n",
            "2/2 [==============================] - 0s 7ms/step - loss: 16.2112 - mae: 16.2112\n",
            "Epoch 95/100\n",
            "2/2 [==============================] - 0s 7ms/step - loss: 15.5537 - mae: 15.5537\n",
            "Epoch 96/100\n",
            "2/2 [==============================] - 0s 11ms/step - loss: 15.0896 - mae: 15.0896\n",
            "Epoch 97/100\n",
            "2/2 [==============================] - 0s 8ms/step - loss: 10.9176 - mae: 10.9176\n",
            "Epoch 98/100\n",
            "2/2 [==============================] - 0s 7ms/step - loss: 14.3791 - mae: 14.3791\n",
            "Epoch 99/100\n",
            "2/2 [==============================] - 0s 7ms/step - loss: 13.3921 - mae: 13.3921\n",
            "Epoch 100/100\n",
            "2/2 [==============================] - 0s 7ms/step - loss: 20.0229 - mae: 20.0229\n"
          ]
        },
        {
          "output_type": "execute_result",
          "data": {
            "text/plain": [
              "<keras.src.callbacks.History at 0x7d298d97a710>"
            ]
          },
          "metadata": {},
          "execution_count": 25
        }
      ]
    },
    {
      "cell_type": "code",
      "source": [
        "model.summary()"
      ],
      "metadata": {
        "colab": {
          "base_uri": "https://localhost:8080/"
        },
        "id": "Jr0BHDgblZC7",
        "outputId": "bd150b52-5912-43d1-8bfc-2975e29c4f10"
      },
      "execution_count": null,
      "outputs": [
        {
          "output_type": "stream",
          "name": "stdout",
          "text": [
            "Model: \"sequential_4\"\n",
            "_________________________________________________________________\n",
            " Layer (type)                Output Shape              Param #   \n",
            "=================================================================\n",
            " Input_layer (Dense)         (None, 10)                20        \n",
            "                                                                 \n",
            " Output_layer (Dense)        (None, 1)                 11        \n",
            "                                                                 \n",
            "=================================================================\n",
            "Total params: 31 (124.00 Byte)\n",
            "Trainable params: 31 (124.00 Byte)\n",
            "Non-trainable params: 0 (0.00 Byte)\n",
            "_________________________________________________________________\n"
          ]
        }
      ]
    },
    {
      "cell_type": "code",
      "source": [
        "from tensorflow.keras.utils import plot_model\n",
        "\n",
        "plot_model(model=model, show_shapes=True)"
      ],
      "metadata": {
        "colab": {
          "base_uri": "https://localhost:8080/",
          "height": 312
        },
        "id": "YccCxtMHl_CH",
        "outputId": "1d51da6c-4a3f-45a8-cba0-4da7f1f165b8"
      },
      "execution_count": null,
      "outputs": [
        {
          "output_type": "execute_result",
          "data": {
            "image/png": "[encoded data removed]",
            "text/plain": [
              "<IPython.core.display.Image object>"
            ]
          },
          "metadata": {},
          "execution_count": 27
        }
      ]
    },
    {
      "cell_type": "code",
      "source": [
        "# Make some predictions\n",
        "y_pred = model.predict(x_test)\n",
        "y_pred"
      ],
      "metadata": {
        "colab": {
          "base_uri": "https://localhost:8080/"
        },
        "id": "kFRDLtCFmHr5",
        "outputId": "34b6b156-7863-47b8-be94-23e7d24ff860"
      },
      "execution_count": null,
      "outputs": [
        {
          "output_type": "stream",
          "name": "stdout",
          "text": [
            "1/1 [==============================] - 0s 54ms/step\n"
          ]
        },
        {
          "output_type": "execute_result",
          "data": {
            "text/plain": [
              "array([[ 90.81206 ],\n",
              "       [ 96.74365 ],\n",
              "       [102.67527 ],\n",
              "       [108.60687 ],\n",
              "       [114.53847 ],\n",
              "       [120.470085],\n",
              "       [126.40168 ],\n",
              "       [132.33328 ],\n",
              "       [138.26488 ],\n",
              "       [144.1965  ]], dtype=float32)"
            ]
          },
          "metadata": {},
          "execution_count": 28
        }
      ]
    },
    {
      "cell_type": "code",
      "source": [
        "x_test"
      ],
      "metadata": {
        "colab": {
          "base_uri": "https://localhost:8080/"
        },
        "id": "vJkh_Mdd2O-M",
        "outputId": "9c0e033d-e1e6-4770-a9eb-172e2103ba20"
      },
      "execution_count": null,
      "outputs": [
        {
          "output_type": "execute_result",
          "data": {
            "text/plain": [
              "<tf.Tensor: shape=(10,), dtype=int32, numpy=array([60, 64, 68, 72, 76, 80, 84, 88, 92, 96], dtype=int32)>"
            ]
          },
          "metadata": {},
          "execution_count": 29
        }
      ]
    },
    {
      "cell_type": "markdown",
      "source": [
        "##### here if you compire y_pred and x_test then you realise our model is able to predict very well, so lets build one more model with good accuracy"
      ],
      "metadata": {
        "id": "v4Fle1ha2TW_"
      }
    },
    {
      "cell_type": "code",
      "source": [
        "# 1. Create a model\n",
        "model_1 = tf.keras.Sequential([\n",
        "    tf.keras.layers.Dense(70, input_shape=[1], activation=None, name=\"Input_layer\"),\n",
        "    tf.keras.layers.Dense(1, name=\"Output_layer\")\n",
        "])\n",
        "\n",
        "# 2. Lets compile model\n",
        "model_1.compile(loss=tf.keras.losses.mae,\n",
        "                optimizer= tf.keras.optimizers.Adam(learning_rate=0.01),\n",
        "                metrics= [\"mae\"])\n",
        "\n",
        "model_1.fit(x_train, y_train, epochs=100, verbose=1)"
      ],
      "metadata": {
        "colab": {
          "base_uri": "https://localhost:8080/"
        },
        "id": "TxpdnFmg2yXj",
        "outputId": "faa5a5ce-f8a4-4321-a126-5116cefada24"
      },
      "execution_count": null,
      "outputs": [
        {
          "output_type": "stream",
          "name": "stdout",
          "text": [
            "Epoch 1/100\n",
            "2/2 [==============================] - 1s 9ms/step - loss: 36.7333 - mae: 36.7333\n",
            "Epoch 2/100\n",
            "2/2 [==============================] - 0s 7ms/step - loss: 18.9182 - mae: 18.9182\n",
            "Epoch 3/100\n",
            "2/2 [==============================] - 0s 8ms/step - loss: 8.6058 - mae: 8.6058\n",
            "Epoch 4/100\n",
            "2/2 [==============================] - 0s 9ms/step - loss: 12.9173 - mae: 12.9173\n",
            "Epoch 5/100\n",
            "2/2 [==============================] - 0s 15ms/step - loss: 13.9445 - mae: 13.9445\n",
            "Epoch 6/100\n",
            "2/2 [==============================] - 0s 9ms/step - loss: 12.9313 - mae: 12.9313\n",
            "Epoch 7/100\n",
            "2/2 [==============================] - 0s 7ms/step - loss: 10.5600 - mae: 10.5600\n",
            "Epoch 8/100\n",
            "2/2 [==============================] - 0s 8ms/step - loss: 7.8717 - mae: 7.8717\n",
            "Epoch 9/100\n",
            "2/2 [==============================] - 0s 8ms/step - loss: 8.7991 - mae: 8.7991\n",
            "Epoch 10/100\n",
            "2/2 [==============================] - 0s 8ms/step - loss: 7.3670 - mae: 7.3670\n",
            "Epoch 11/100\n",
            "2/2 [==============================] - 0s 8ms/step - loss: 8.2643 - mae: 8.2643\n",
            "Epoch 12/100\n",
            "2/2 [==============================] - 0s 8ms/step - loss: 8.7880 - mae: 8.7880\n",
            "Epoch 13/100\n",
            "2/2 [==============================] - 0s 7ms/step - loss: 7.5981 - mae: 7.5981\n",
            "Epoch 14/100\n",
            "2/2 [==============================] - 0s 7ms/step - loss: 6.6587 - mae: 6.6587\n",
            "Epoch 15/100\n",
            "2/2 [==============================] - 0s 9ms/step - loss: 7.6947 - mae: 7.6947\n",
            "Epoch 16/100\n",
            "2/2 [==============================] - 0s 9ms/step - loss: 6.7324 - mae: 6.7324\n",
            "Epoch 17/100\n",
            "2/2 [==============================] - 0s 8ms/step - loss: 6.1387 - mae: 6.1387\n",
            "Epoch 18/100\n",
            "2/2 [==============================] - 0s 7ms/step - loss: 6.5060 - mae: 6.5060\n",
            "Epoch 19/100\n",
            "2/2 [==============================] - 0s 8ms/step - loss: 5.7192 - mae: 5.7192\n",
            "Epoch 20/100\n",
            "2/2 [==============================] - 0s 7ms/step - loss: 6.4525 - mae: 6.4525\n",
            "Epoch 21/100\n",
            "2/2 [==============================] - 0s 8ms/step - loss: 5.9406 - mae: 5.9406\n",
            "Epoch 22/100\n",
            "2/2 [==============================] - 0s 7ms/step - loss: 5.2481 - mae: 5.2481\n",
            "Epoch 23/100\n",
            "2/2 [==============================] - 0s 7ms/step - loss: 5.6453 - mae: 5.6453\n",
            "Epoch 24/100\n",
            "2/2 [==============================] - 0s 7ms/step - loss: 5.0389 - mae: 5.0389\n",
            "Epoch 25/100\n",
            "2/2 [==============================] - 0s 7ms/step - loss: 4.9020 - mae: 4.9020\n",
            "Epoch 26/100\n",
            "2/2 [==============================] - 0s 8ms/step - loss: 4.5876 - mae: 4.5876\n",
            "Epoch 27/100\n",
            "2/2 [==============================] - 0s 8ms/step - loss: 4.4849 - mae: 4.4849\n",
            "Epoch 28/100\n",
            "2/2 [==============================] - 0s 8ms/step - loss: 4.3053 - mae: 4.3053\n",
            "Epoch 29/100\n",
            "2/2 [==============================] - 0s 10ms/step - loss: 4.3122 - mae: 4.3122\n",
            "Epoch 30/100\n",
            "2/2 [==============================] - 0s 8ms/step - loss: 3.8408 - mae: 3.8408\n",
            "Epoch 31/100\n",
            "2/2 [==============================] - 0s 9ms/step - loss: 3.7312 - mae: 3.7312\n",
            "Epoch 32/100\n",
            "2/2 [==============================] - 0s 10ms/step - loss: 3.8111 - mae: 3.8111\n",
            "Epoch 33/100\n",
            "2/2 [==============================] - 0s 12ms/step - loss: 3.2062 - mae: 3.2062\n",
            "Epoch 34/100\n",
            "2/2 [==============================] - 0s 10ms/step - loss: 2.8305 - mae: 2.8305\n",
            "Epoch 35/100\n",
            "2/2 [==============================] - 0s 9ms/step - loss: 3.3297 - mae: 3.3297\n",
            "Epoch 36/100\n",
            "2/2 [==============================] - 0s 8ms/step - loss: 2.4676 - mae: 2.4676\n",
            "Epoch 37/100\n",
            "2/2 [==============================] - 0s 8ms/step - loss: 3.1237 - mae: 3.1237\n",
            "Epoch 38/100\n",
            "2/2 [==============================] - 0s 8ms/step - loss: 2.3059 - mae: 2.3059\n",
            "Epoch 39/100\n",
            "2/2 [==============================] - 0s 8ms/step - loss: 2.5161 - mae: 2.5161\n",
            "Epoch 40/100\n",
            "2/2 [==============================] - 0s 7ms/step - loss: 1.5218 - mae: 1.5218\n",
            "Epoch 41/100\n",
            "2/2 [==============================] - 0s 8ms/step - loss: 2.1863 - mae: 2.1863\n",
            "Epoch 42/100\n",
            "2/2 [==============================] - 0s 8ms/step - loss: 0.9910 - mae: 0.9910\n",
            "Epoch 43/100\n",
            "2/2 [==============================] - 0s 8ms/step - loss: 1.2131 - mae: 1.2131\n",
            "Epoch 44/100\n",
            "2/2 [==============================] - 0s 8ms/step - loss: 1.2506 - mae: 1.2506\n",
            "Epoch 45/100\n",
            "2/2 [==============================] - 0s 7ms/step - loss: 1.5859 - mae: 1.5859\n",
            "Epoch 46/100\n",
            "2/2 [==============================] - 0s 10ms/step - loss: 0.7810 - mae: 0.7810\n",
            "Epoch 47/100\n",
            "2/2 [==============================] - 0s 8ms/step - loss: 3.2049 - mae: 3.2049\n",
            "Epoch 48/100\n",
            "2/2 [==============================] - 0s 7ms/step - loss: 0.8591 - mae: 0.8591\n",
            "Epoch 49/100\n",
            "2/2 [==============================] - 0s 6ms/step - loss: 3.3108 - mae: 3.3108\n",
            "Epoch 50/100\n",
            "2/2 [==============================] - 0s 11ms/step - loss: 1.2312 - mae: 1.2312\n",
            "Epoch 51/100\n",
            "2/2 [==============================] - 0s 8ms/step - loss: 3.5880 - mae: 3.5880\n",
            "Epoch 52/100\n",
            "2/2 [==============================] - 0s 7ms/step - loss: 1.4092 - mae: 1.4092\n",
            "Epoch 53/100\n",
            "2/2 [==============================] - 0s 10ms/step - loss: 4.2083 - mae: 4.2083\n",
            "Epoch 54/100\n",
            "2/2 [==============================] - 0s 7ms/step - loss: 1.8180 - mae: 1.8180\n",
            "Epoch 55/100\n",
            "2/2 [==============================] - 0s 8ms/step - loss: 1.8834 - mae: 1.8834\n",
            "Epoch 56/100\n",
            "2/2 [==============================] - 0s 11ms/step - loss: 0.5961 - mae: 0.5961\n",
            "Epoch 57/100\n",
            "2/2 [==============================] - 0s 7ms/step - loss: 0.3453 - mae: 0.3453\n",
            "Epoch 58/100\n",
            "2/2 [==============================] - 0s 7ms/step - loss: 0.3313 - mae: 0.3313\n",
            "Epoch 59/100\n",
            "2/2 [==============================] - 0s 8ms/step - loss: 0.2751 - mae: 0.2751\n",
            "Epoch 60/100\n",
            "2/2 [==============================] - 0s 8ms/step - loss: 0.8714 - mae: 0.8714\n",
            "Epoch 61/100\n",
            "2/2 [==============================] - 0s 8ms/step - loss: 0.6597 - mae: 0.6597\n",
            "Epoch 62/100\n",
            "2/2 [==============================] - 0s 8ms/step - loss: 0.5791 - mae: 0.5791\n",
            "Epoch 63/100\n",
            "2/2 [==============================] - 0s 11ms/step - loss: 1.0032 - mae: 1.0032\n",
            "Epoch 64/100\n",
            "2/2 [==============================] - 0s 8ms/step - loss: 2.3556 - mae: 2.3556\n",
            "Epoch 65/100\n",
            "2/2 [==============================] - 0s 10ms/step - loss: 1.7418 - mae: 1.7418\n",
            "Epoch 66/100\n",
            "2/2 [==============================] - 0s 9ms/step - loss: 3.2189 - mae: 3.2189\n",
            "Epoch 67/100\n",
            "2/2 [==============================] - 0s 9ms/step - loss: 4.2366 - mae: 4.2366\n",
            "Epoch 68/100\n",
            "2/2 [==============================] - 0s 8ms/step - loss: 1.2626 - mae: 1.2626\n",
            "Epoch 69/100\n",
            "2/2 [==============================] - 0s 8ms/step - loss: 4.0216 - mae: 4.0216\n",
            "Epoch 70/100\n",
            "2/2 [==============================] - 0s 8ms/step - loss: 3.0693 - mae: 3.0693\n",
            "Epoch 71/100\n",
            "2/2 [==============================] - 0s 8ms/step - loss: 1.6454 - mae: 1.6454\n",
            "Epoch 72/100\n",
            "2/2 [==============================] - 0s 8ms/step - loss: 2.6656 - mae: 2.6656\n",
            "Epoch 73/100\n",
            "2/2 [==============================] - 0s 8ms/step - loss: 0.8013 - mae: 0.8013\n",
            "Epoch 74/100\n",
            "2/2 [==============================] - 0s 9ms/step - loss: 1.0147 - mae: 1.0147\n",
            "Epoch 75/100\n",
            "2/2 [==============================] - 0s 7ms/step - loss: 0.8678 - mae: 0.8678\n",
            "Epoch 76/100\n",
            "2/2 [==============================] - 0s 8ms/step - loss: 1.4964 - mae: 1.4964\n",
            "Epoch 77/100\n",
            "2/2 [==============================] - 0s 8ms/step - loss: 0.9611 - mae: 0.9611\n",
            "Epoch 78/100\n",
            "2/2 [==============================] - 0s 8ms/step - loss: 1.2261 - mae: 1.2261\n",
            "Epoch 79/100\n",
            "2/2 [==============================] - 0s 7ms/step - loss: 1.3679 - mae: 1.3679\n",
            "Epoch 80/100\n",
            "2/2 [==============================] - 0s 8ms/step - loss: 0.9857 - mae: 0.9857\n",
            "Epoch 81/100\n",
            "2/2 [==============================] - 0s 8ms/step - loss: 1.3959 - mae: 1.3959\n",
            "Epoch 82/100\n",
            "2/2 [==============================] - 0s 8ms/step - loss: 0.3369 - mae: 0.3369\n",
            "Epoch 83/100\n",
            "2/2 [==============================] - 0s 8ms/step - loss: 0.8415 - mae: 0.8415\n",
            "Epoch 84/100\n",
            "2/2 [==============================] - 0s 8ms/step - loss: 0.2189 - mae: 0.2189\n",
            "Epoch 85/100\n",
            "2/2 [==============================] - 0s 10ms/step - loss: 1.5843 - mae: 1.5843\n",
            "Epoch 86/100\n",
            "2/2 [==============================] - 0s 8ms/step - loss: 0.9606 - mae: 0.9606\n",
            "Epoch 87/100\n",
            "2/2 [==============================] - 0s 8ms/step - loss: 1.2230 - mae: 1.2230\n",
            "Epoch 88/100\n",
            "2/2 [==============================] - 0s 8ms/step - loss: 1.1256 - mae: 1.1256\n",
            "Epoch 89/100\n",
            "2/2 [==============================] - 0s 8ms/step - loss: 0.9283 - mae: 0.9283\n",
            "Epoch 90/100\n",
            "2/2 [==============================] - 0s 10ms/step - loss: 0.4372 - mae: 0.4372\n",
            "Epoch 91/100\n",
            "2/2 [==============================] - 0s 8ms/step - loss: 0.5043 - mae: 0.5043\n",
            "Epoch 92/100\n",
            "2/2 [==============================] - 0s 10ms/step - loss: 0.4819 - mae: 0.4819\n",
            "Epoch 93/100\n",
            "2/2 [==============================] - 0s 8ms/step - loss: 1.0014 - mae: 1.0014\n",
            "Epoch 94/100\n",
            "2/2 [==============================] - 0s 8ms/step - loss: 1.4684 - mae: 1.4684\n",
            "Epoch 95/100\n",
            "2/2 [==============================] - 0s 8ms/step - loss: 1.0368 - mae: 1.0368\n",
            "Epoch 96/100\n",
            "2/2 [==============================] - 0s 8ms/step - loss: 1.0168 - mae: 1.0168\n",
            "Epoch 97/100\n",
            "2/2 [==============================] - 0s 9ms/step - loss: 0.9839 - mae: 0.9839\n",
            "Epoch 98/100\n",
            "2/2 [==============================] - 0s 8ms/step - loss: 0.7528 - mae: 0.7528\n",
            "Epoch 99/100\n",
            "2/2 [==============================] - 0s 8ms/step - loss: 1.0090 - mae: 1.0090\n",
            "Epoch 100/100\n",
            "2/2 [==============================] - 0s 9ms/step - loss: 1.3910 - mae: 1.3910\n"
          ]
        },
        {
          "output_type": "execute_result",
          "data": {
            "text/plain": [
              "<keras.src.callbacks.History at 0x7d298d8550f0>"
            ]
          },
          "metadata": {},
          "execution_count": 30
        }
      ]
    },
    {
      "cell_type": "code",
      "source": [
        "model_1.summary()"
      ],
      "metadata": {
        "colab": {
          "base_uri": "https://localhost:8080/"
        },
        "id": "LXGyoEZh4A4c",
        "outputId": "bcd99b21-f963-41d2-9c43-57169056607c"
      },
      "execution_count": null,
      "outputs": [
        {
          "output_type": "stream",
          "name": "stdout",
          "text": [
            "Model: \"sequential_5\"\n",
            "_________________________________________________________________\n",
            " Layer (type)                Output Shape              Param #   \n",
            "=================================================================\n",
            " Input_layer (Dense)         (None, 70)                140       \n",
            "                                                                 \n",
            " Output_layer (Dense)        (None, 1)                 71        \n",
            "                                                                 \n",
            "=================================================================\n",
            "Total params: 211 (844.00 Byte)\n",
            "Trainable params: 211 (844.00 Byte)\n",
            "Non-trainable params: 0 (0.00 Byte)\n",
            "_________________________________________________________________\n"
          ]
        }
      ]
    },
    {
      "cell_type": "code",
      "source": [
        "y_pred = model_1.predict(x_test)\n",
        "y_pred"
      ],
      "metadata": {
        "colab": {
          "base_uri": "https://localhost:8080/"
        },
        "id": "QybQ7Zj44Ps3",
        "outputId": "ad48ab0e-5058-405d-8b3f-01a44d2c5ff5"
      },
      "execution_count": null,
      "outputs": [
        {
          "output_type": "stream",
          "name": "stderr",
          "text": [
            "WARNING:tensorflow:5 out of the last 5 calls to <function Model.make_predict_function.<locals>.predict_function at 0x7d298d827d90> triggered tf.function retracing. Tracing is expensive and the excessive number of tracings could be due to (1) creating @tf.function repeatedly in a loop, (2) passing tensors with different shapes, (3) passing Python objects instead of tensors. For (1), please define your @tf.function outside of the loop. For (2), @tf.function has reduce_retracing=True option that can avoid unnecessary retracing. For (3), please refer to https://www.tensorflow.org/guide/function#controlling_retracing and https://www.tensorflow.org/api_docs/python/tf/function for  more details.\n"
          ]
        },
        {
          "output_type": "stream",
          "name": "stdout",
          "text": [
            "1/1 [==============================] - 0s 57ms/step\n"
          ]
        },
        {
          "output_type": "execute_result",
          "data": {
            "text/plain": [
              "array([[ 71.92019 ],\n",
              "       [ 76.044876],\n",
              "       [ 80.16956 ],\n",
              "       [ 84.29426 ],\n",
              "       [ 88.418976],\n",
              "       [ 92.54366 ],\n",
              "       [ 96.66835 ],\n",
              "       [100.79304 ],\n",
              "       [104.91774 ],\n",
              "       [109.04243 ]], dtype=float32)"
            ]
          },
          "metadata": {},
          "execution_count": 32
        }
      ]
    },
    {
      "cell_type": "code",
      "source": [
        "y_test"
      ],
      "metadata": {
        "colab": {
          "base_uri": "https://localhost:8080/"
        },
        "id": "X8TirRkY5FJq",
        "outputId": "ef9a6f0f-890b-4b14-a117-4ad181efdcd2"
      },
      "execution_count": null,
      "outputs": [
        {
          "output_type": "execute_result",
          "data": {
            "text/plain": [
              "<tf.Tensor: shape=(10,), dtype=int32, numpy=array([ 70,  74,  78,  82,  86,  90,  94,  98, 102, 106], dtype=int32)>"
            ]
          },
          "metadata": {},
          "execution_count": 33
        }
      ]
    },
    {
      "cell_type": "markdown",
      "source": [
        "### Visualise the model predictions\n",
        "\n"
      ],
      "metadata": {
        "id": "2DHJiiQN5WJu"
      }
    },
    {
      "cell_type": "code",
      "source": [
        "## Make some functoins for visualise model prediction\n",
        "\"\"\"\n",
        "plt.figure(figsize = (10, 7))\n",
        "# plt training data set in blue\n",
        "plt.scatter(x_train, y_train, c=\"b\", label=\"Training data\")\n",
        "\n",
        "# plt test data set in green\n",
        "plt.scatter(x_test, y_test, c=\"g\", label=\"Test data\")\n",
        "plt.legend();\n",
        "\"\"\"\n",
        "def plot_prediction(train_data=x_train,\n",
        "                    train_labels=y_train,\n",
        "                    test_data=x_test,\n",
        "                    test_labels=y_test,\n",
        "                    predictions=y_pred):\n",
        "  plt.figure(figsize= (10, 7))\n",
        "\n",
        "  # plt training data set in blue\n",
        "  plt.scatter(train_data, train_labels, c=\"b\", label=\"Training data\")\n",
        "\n",
        "  # plt test data set in gree\n",
        "  plt.scatter(test_data, test_labels, c=\"g\", label=\"Testing data\")\n",
        "\n",
        "  # plt predictoin data set in red\n",
        "  plt.scatter(test_data, predictions, c=\"r\", label=\"prediction\")\n",
        "\n",
        "  # plt legesd\n",
        "  plt.legend();\n"
      ],
      "metadata": {
        "id": "EayF31vdQ0Z_"
      },
      "execution_count": null,
      "outputs": []
    },
    {
      "cell_type": "code",
      "source": [
        "plot_prediction()"
      ],
      "metadata": {
        "colab": {
          "base_uri": "https://localhost:8080/",
          "height": 599
        },
        "id": "0L1dIicZSR-U",
        "outputId": "37affd0d-5654-4194-976c-899a96526ac4"
      },
      "execution_count": null,
      "outputs": [
        {
          "output_type": "display_data",
          "data": {
            "text/plain": [
              "<Figure size 1000x700 with 1 Axes>"
            ],
            "image/png": "[encoded data removed]"
          },
          "metadata": {}
        }
      ]
    },
    {
      "cell_type": "code",
      "source": [
        "y_pred"
      ],
      "metadata": {
        "colab": {
          "base_uri": "https://localhost:8080/"
        },
        "id": "6OFc5sXlSVJD",
        "outputId": "cf7b637c-d12e-4aa3-823c-de81962f7ed0"
      },
      "execution_count": null,
      "outputs": [
        {
          "output_type": "execute_result",
          "data": {
            "text/plain": [
              "array([[ 71.92019 ],\n",
              "       [ 76.044876],\n",
              "       [ 80.16956 ],\n",
              "       [ 84.29426 ],\n",
              "       [ 88.418976],\n",
              "       [ 92.54366 ],\n",
              "       [ 96.66835 ],\n",
              "       [100.79304 ],\n",
              "       [104.91774 ],\n",
              "       [109.04243 ]], dtype=float32)"
            ]
          },
          "metadata": {},
          "execution_count": 36
        }
      ]
    },
    {
      "cell_type": "code",
      "source": [
        "y_test"
      ],
      "metadata": {
        "colab": {
          "base_uri": "https://localhost:8080/"
        },
        "id": "4xEtqTQQSZGP",
        "outputId": "674d17d1-f060-4fa8-88b9-1d8b809d0c12"
      },
      "execution_count": null,
      "outputs": [
        {
          "output_type": "execute_result",
          "data": {
            "text/plain": [
              "<tf.Tensor: shape=(10,), dtype=int32, numpy=array([ 70,  74,  78,  82,  86,  90,  94,  98, 102, 106], dtype=int32)>"
            ]
          },
          "metadata": {},
          "execution_count": 37
        }
      ]
    },
    {
      "cell_type": "code",
      "source": [
        "mae = tf.metrics.mean_absolute_error(y_true=y_test, y_pred=tf.squeeze(y_pred))\n",
        "mae"
      ],
      "metadata": {
        "colab": {
          "base_uri": "https://localhost:8080/"
        },
        "id": "Qon0_XcKSbf-",
        "outputId": "2e51e978-2e91-4ee6-f975-e340fb2ecaa5"
      },
      "execution_count": null,
      "outputs": [
        {
          "output_type": "execute_result",
          "data": {
            "text/plain": [
              "<tf.Tensor: shape=(), dtype=float32, numpy=2.481308>"
            ]
          },
          "metadata": {},
          "execution_count": 38
        }
      ]
    },
    {
      "cell_type": "code",
      "source": [
        "x_test"
      ],
      "metadata": {
        "colab": {
          "base_uri": "https://localhost:8080/"
        },
        "id": "PxflQCuPTSUz",
        "outputId": "285d0d4d-1ed6-42c2-f040-8a502e9735b0"
      },
      "execution_count": null,
      "outputs": [
        {
          "output_type": "execute_result",
          "data": {
            "text/plain": [
              "<tf.Tensor: shape=(10,), dtype=int32, numpy=array([60, 64, 68, 72, 76, 80, 84, 88, 92, 96], dtype=int32)>"
            ]
          },
          "metadata": {},
          "execution_count": 39
        }
      ]
    },
    {
      "cell_type": "markdown",
      "source": [
        "### Letes create one more model to compare with old one model which is `model`\n",
        "\n",
        "* lets add 3 hidden layers, and train for 100 epoch"
      ],
      "metadata": {
        "id": "132qEhX2c6GW"
      }
    },
    {
      "cell_type": "code",
      "source": [
        "# set a random seed\n",
        "tf.random.set_seed(42) ## 42 is univesal value\n",
        "\n",
        "# 1. Create a model\n",
        "model_2 = tf.keras.Sequential([\n",
        "    tf.keras.layers.Dense(50, input_shape=[1], activation=\"relu\", name=\"Input_layer_1\"),\n",
        "    tf.keras.layers.Dense(70, activation=None, name=\"Input_layer_2\"),\n",
        "    tf.keras.layers.Dense(1, name=\"Output_layer_1\")\n",
        "])\n",
        "\n",
        "# 2. compile a model\n",
        "model_2.compile(loss= tf.keras.losses.mae,\n",
        "                optimizer= tf.keras.optimizers.Adam(learning_rate=0.01),\n",
        "                metrics= [\"mae\"])\n",
        "\n",
        "# fit the model\n",
        "model_2.fit(x_train, y_train, epochs=100, verbose=0)"
      ],
      "metadata": {
        "colab": {
          "base_uri": "https://localhost:8080/"
        },
        "id": "jJ31DVtFc6E1",
        "outputId": "792e3bff-89b1-4a28-ebae-74a596bbe08b"
      },
      "execution_count": null,
      "outputs": [
        {
          "output_type": "execute_result",
          "data": {
            "text/plain": [
              "<keras.src.callbacks.History at 0x7d298d7df010>"
            ]
          },
          "metadata": {},
          "execution_count": 40
        }
      ]
    },
    {
      "cell_type": "code",
      "source": [
        "y_pred_2 = model_2.predict(x_test)\n",
        "y_pred_2"
      ],
      "metadata": {
        "colab": {
          "base_uri": "https://localhost:8080/"
        },
        "id": "a7sk9ZI0c6B_",
        "outputId": "c184d0bb-129a-4d2d-9b21-1e86126d1a74"
      },
      "execution_count": null,
      "outputs": [
        {
          "output_type": "stream",
          "name": "stderr",
          "text": [
            "WARNING:tensorflow:6 out of the last 6 calls to <function Model.make_predict_function.<locals>.predict_function at 0x7d298d829120> triggered tf.function retracing. Tracing is expensive and the excessive number of tracings could be due to (1) creating @tf.function repeatedly in a loop, (2) passing tensors with different shapes, (3) passing Python objects instead of tensors. For (1), please define your @tf.function outside of the loop. For (2), @tf.function has reduce_retracing=True option that can avoid unnecessary retracing. For (3), please refer to https://www.tensorflow.org/guide/function#controlling_retracing and https://www.tensorflow.org/api_docs/python/tf/function for  more details.\n"
          ]
        },
        {
          "output_type": "stream",
          "name": "stdout",
          "text": [
            "1/1 [==============================] - 0s 61ms/step\n"
          ]
        },
        {
          "output_type": "execute_result",
          "data": {
            "text/plain": [
              "array([[ 69.49466 ],\n",
              "       [ 73.4501  ],\n",
              "       [ 77.40555 ],\n",
              "       [ 81.361   ],\n",
              "       [ 85.316444],\n",
              "       [ 89.271904],\n",
              "       [ 93.22747 ],\n",
              "       [ 97.183014],\n",
              "       [101.138565],\n",
              "       [105.094124]], dtype=float32)"
            ]
          },
          "metadata": {},
          "execution_count": 41
        }
      ]
    },
    {
      "cell_type": "code",
      "source": [
        "y_test"
      ],
      "metadata": {
        "colab": {
          "base_uri": "https://localhost:8080/"
        },
        "id": "qhUV8RfTc5_i",
        "outputId": "172f0530-ad88-4b75-923e-98d470332a76"
      },
      "execution_count": null,
      "outputs": [
        {
          "output_type": "execute_result",
          "data": {
            "text/plain": [
              "<tf.Tensor: shape=(10,), dtype=int32, numpy=array([ 70,  74,  78,  82,  86,  90,  94,  98, 102, 106], dtype=int32)>"
            ]
          },
          "metadata": {},
          "execution_count": 42
        }
      ]
    },
    {
      "cell_type": "code",
      "source": [
        "plot_prediction(predictions=y_pred_2)"
      ],
      "metadata": {
        "colab": {
          "base_uri": "https://localhost:8080/",
          "height": 599
        },
        "id": "X-A1crLzc59m",
        "outputId": "d1a6b834-815f-488e-a7a9-1b7dc3d05fc0"
      },
      "execution_count": null,
      "outputs": [
        {
          "output_type": "display_data",
          "data": {
            "text/plain": [
              "<Figure size 1000x700 with 1 Axes>"
            ],
            "image/png": "[encoded data removed]"
          },
          "metadata": {}
        }
      ]
    },
    {
      "cell_type": "markdown",
      "source": [
        "### If interviewere ask you to build a model\n",
        "\n"
      ],
      "metadata": {
        "id": "fJS6cvS8TxDc"
      }
    },
    {
      "cell_type": "code",
      "source": [
        "# lets create a data\n",
        "x_inter = tf.range(-200, 200, 3)\n",
        "y_inter = x_inter+10\n",
        "len(x_inter), len(y_inter)"
      ],
      "metadata": {
        "colab": {
          "base_uri": "https://localhost:8080/"
        },
        "id": "hFDyxb5zVD3U",
        "outputId": "ab3e6a6d-7a6a-47a5-c527-abe79a68e878"
      },
      "execution_count": null,
      "outputs": [
        {
          "output_type": "execute_result",
          "data": {
            "text/plain": [
              "(134, 134)"
            ]
          },
          "metadata": {},
          "execution_count": 44
        }
      ]
    },
    {
      "cell_type": "code",
      "source": [
        "# now creating a training and testing data for model\n",
        "x_train_inter = x_inter[:110]\n",
        "y_train_inter = y_inter[:110]\n",
        "# len(y_train)\n",
        "\n",
        "x_test_inter = x_inter[110:]\n",
        "y_test_inter = y_inter[110:]\n",
        "\n",
        "# len(x_train), len(y_train), len(x_test), len(y_test)"
      ],
      "metadata": {
        "id": "1NZflms4VOLE"
      },
      "execution_count": null,
      "outputs": []
    },
    {
      "cell_type": "code",
      "source": [
        "# visualise a main data, then will compare train and test data\n",
        "# plt.scatter(x, y)\n",
        "plt.figure(figsize=(10, 7))\n",
        "plt.scatter(x_train_inter, y_train_inter, c=\"b\", label=\"training_data\")\n",
        "plt.scatter(x_test_inter, y_test_inter, c=\"g\", label=\"testing_data\")\n",
        "plt.legend();"
      ],
      "metadata": {
        "colab": {
          "base_uri": "https://localhost:8080/",
          "height": 599
        },
        "id": "LdcXAL6zVgmR",
        "outputId": "37e1a312-55e0-4424-ba64-0467a8f9b8b0"
      },
      "execution_count": null,
      "outputs": [
        {
          "output_type": "display_data",
          "data": {
            "text/plain": [
              "<Figure size 1000x700 with 1 Axes>"
            ],
            "image/png": "[encoded data removed]"
          },
          "metadata": {}
        }
      ]
    },
    {
      "cell_type": "code",
      "source": [
        "# Now lets create a model\n",
        "\n",
        "# 1. Create a model\n",
        "model_demo = tf.keras.Sequential([\n",
        "    tf.keras.layers.Dense(50, input_shape=[1], activation=\"relu\", name=\"Input_layer\"),\n",
        "    # tf.keras.layers.Dense(70, input_shape=[1], activation=\"relu\", name=\"Input_layer_2\"),\n",
        "    tf.keras.layers.Dense(1, input_shape=[1], name=\"Output_layers\")\n",
        "])\n",
        "\n",
        "# 2. compile the model\n",
        "model_demo.compile(loss=tf.keras.losses.mae,\n",
        "                   optimizer=tf.keras.optimizers.Adam(learning_rate=0.01),\n",
        "                   metrics=[\"mae\"])\n",
        "\n",
        "# 3. Fit the model\n",
        "model_demo.fit(x_train_inter, y_train_inter, epochs=50)"
      ],
      "metadata": {
        "colab": {
          "base_uri": "https://localhost:8080/"
        },
        "id": "5iN1eIO-WFum",
        "outputId": "d13e8a49-df62-4a5f-fbce-b87a537ee38d"
      },
      "execution_count": null,
      "outputs": [
        {
          "output_type": "stream",
          "name": "stdout",
          "text": [
            "Epoch 1/50\n",
            "4/4 [==============================] - 1s 6ms/step - loss: 64.3855 - mae: 64.3855\n",
            "Epoch 2/50\n",
            "4/4 [==============================] - 0s 5ms/step - loss: 32.8213 - mae: 32.8213\n",
            "Epoch 3/50\n",
            "4/4 [==============================] - 0s 5ms/step - loss: 15.5289 - mae: 15.5289\n",
            "Epoch 4/50\n",
            "4/4 [==============================] - 0s 6ms/step - loss: 14.1799 - mae: 14.1799\n",
            "Epoch 5/50\n",
            "4/4 [==============================] - 0s 4ms/step - loss: 10.0985 - mae: 10.0985\n",
            "Epoch 6/50\n",
            "4/4 [==============================] - 0s 6ms/step - loss: 11.7251 - mae: 11.7251\n",
            "Epoch 7/50\n",
            "4/4 [==============================] - 0s 5ms/step - loss: 5.3725 - mae: 5.3725\n",
            "Epoch 8/50\n",
            "4/4 [==============================] - 0s 5ms/step - loss: 7.5914 - mae: 7.5914\n",
            "Epoch 9/50\n",
            "4/4 [==============================] - 0s 6ms/step - loss: 4.7155 - mae: 4.7155\n",
            "Epoch 10/50\n",
            "4/4 [==============================] - 0s 4ms/step - loss: 5.8234 - mae: 5.8234\n",
            "Epoch 11/50\n",
            "4/4 [==============================] - 0s 7ms/step - loss: 6.0821 - mae: 6.0821\n",
            "Epoch 12/50\n",
            "4/4 [==============================] - 0s 5ms/step - loss: 4.8424 - mae: 4.8424\n",
            "Epoch 13/50\n",
            "4/4 [==============================] - 0s 6ms/step - loss: 5.4935 - mae: 5.4935\n",
            "Epoch 14/50\n",
            "4/4 [==============================] - 0s 5ms/step - loss: 4.6204 - mae: 4.6204\n",
            "Epoch 15/50\n",
            "4/4 [==============================] - 0s 6ms/step - loss: 4.4415 - mae: 4.4415\n",
            "Epoch 16/50\n",
            "4/4 [==============================] - 0s 6ms/step - loss: 4.0745 - mae: 4.0745\n",
            "Epoch 17/50\n",
            "4/4 [==============================] - 0s 6ms/step - loss: 3.8468 - mae: 3.8468\n",
            "Epoch 18/50\n",
            "4/4 [==============================] - 0s 5ms/step - loss: 3.8916 - mae: 3.8916\n",
            "Epoch 19/50\n",
            "4/4 [==============================] - 0s 4ms/step - loss: 3.6688 - mae: 3.6688\n",
            "Epoch 20/50\n",
            "4/4 [==============================] - 0s 5ms/step - loss: 4.1140 - mae: 4.1140\n",
            "Epoch 21/50\n",
            "4/4 [==============================] - 0s 5ms/step - loss: 3.7291 - mae: 3.7291\n",
            "Epoch 22/50\n",
            "4/4 [==============================] - 0s 5ms/step - loss: 3.5375 - mae: 3.5375\n",
            "Epoch 23/50\n",
            "4/4 [==============================] - 0s 5ms/step - loss: 3.6593 - mae: 3.6593\n",
            "Epoch 24/50\n",
            "4/4 [==============================] - 0s 3ms/step - loss: 3.3392 - mae: 3.3392\n",
            "Epoch 25/50\n",
            "4/4 [==============================] - 0s 3ms/step - loss: 3.2730 - mae: 3.2730\n",
            "Epoch 26/50\n",
            "4/4 [==============================] - 0s 3ms/step - loss: 3.1673 - mae: 3.1673\n",
            "Epoch 27/50\n",
            "4/4 [==============================] - 0s 3ms/step - loss: 3.1492 - mae: 3.1492\n",
            "Epoch 28/50\n",
            "4/4 [==============================] - 0s 3ms/step - loss: 3.1219 - mae: 3.1219\n",
            "Epoch 29/50\n",
            "4/4 [==============================] - 0s 4ms/step - loss: 3.1209 - mae: 3.1209\n",
            "Epoch 30/50\n",
            "4/4 [==============================] - 0s 3ms/step - loss: 3.0089 - mae: 3.0089\n",
            "Epoch 31/50\n",
            "4/4 [==============================] - 0s 4ms/step - loss: 3.3555 - mae: 3.3555\n",
            "Epoch 32/50\n",
            "4/4 [==============================] - 0s 4ms/step - loss: 3.8899 - mae: 3.8899\n",
            "Epoch 33/50\n",
            "4/4 [==============================] - 0s 4ms/step - loss: 3.7354 - mae: 3.7354\n",
            "Epoch 34/50\n",
            "4/4 [==============================] - 0s 4ms/step - loss: 3.3729 - mae: 3.3729\n",
            "Epoch 35/50\n",
            "4/4 [==============================] - 0s 4ms/step - loss: 2.9025 - mae: 2.9025\n",
            "Epoch 36/50\n",
            "4/4 [==============================] - 0s 4ms/step - loss: 3.2510 - mae: 3.2510\n",
            "Epoch 37/50\n",
            "4/4 [==============================] - 0s 4ms/step - loss: 2.5430 - mae: 2.5430\n",
            "Epoch 38/50\n",
            "4/4 [==============================] - 0s 4ms/step - loss: 2.6635 - mae: 2.6635\n",
            "Epoch 39/50\n",
            "4/4 [==============================] - 0s 3ms/step - loss: 2.5349 - mae: 2.5349\n",
            "Epoch 40/50\n",
            "4/4 [==============================] - 0s 3ms/step - loss: 2.3645 - mae: 2.3645\n",
            "Epoch 41/50\n",
            "4/4 [==============================] - 0s 5ms/step - loss: 2.4718 - mae: 2.4718\n",
            "Epoch 42/50\n",
            "4/4 [==============================] - 0s 4ms/step - loss: 2.2862 - mae: 2.2862\n",
            "Epoch 43/50\n",
            "4/4 [==============================] - 0s 4ms/step - loss: 2.1703 - mae: 2.1703\n",
            "Epoch 44/50\n",
            "4/4 [==============================] - 0s 4ms/step - loss: 2.1615 - mae: 2.1615\n",
            "Epoch 45/50\n",
            "4/4 [==============================] - 0s 4ms/step - loss: 2.6883 - mae: 2.6883\n",
            "Epoch 46/50\n",
            "4/4 [==============================] - 0s 4ms/step - loss: 2.3225 - mae: 2.3225\n",
            "Epoch 47/50\n",
            "4/4 [==============================] - 0s 3ms/step - loss: 1.8505 - mae: 1.8505\n",
            "Epoch 48/50\n",
            "4/4 [==============================] - 0s 4ms/step - loss: 1.7096 - mae: 1.7096\n",
            "Epoch 49/50\n",
            "4/4 [==============================] - 0s 4ms/step - loss: 1.6695 - mae: 1.6695\n",
            "Epoch 50/50\n",
            "4/4 [==============================] - 0s 4ms/step - loss: 2.1175 - mae: 2.1175\n"
          ]
        },
        {
          "output_type": "execute_result",
          "data": {
            "text/plain": [
              "<keras.src.callbacks.History at 0x7d298f694e50>"
            ]
          },
          "metadata": {},
          "execution_count": 47
        }
      ]
    },
    {
      "cell_type": "code",
      "source": [
        "y_pred_inter = model_demo.predict(x_test_inter)\n",
        "y_pred_inter, x_test_inter"
      ],
      "metadata": {
        "colab": {
          "base_uri": "https://localhost:8080/"
        },
        "id": "Z5-AA_9IYVcY",
        "outputId": "0ce3f88b-c04f-4aac-a00e-9cdb0603cda9"
      },
      "execution_count": null,
      "outputs": [
        {
          "output_type": "stream",
          "name": "stdout",
          "text": [
            "1/1 [==============================] - 0s 54ms/step\n"
          ]
        },
        {
          "output_type": "execute_result",
          "data": {
            "text/plain": [
              "(array([[141.31406],\n",
              "        [144.43408],\n",
              "        [147.55411],\n",
              "        [150.67412],\n",
              "        [153.79413],\n",
              "        [156.91415],\n",
              "        [160.03418],\n",
              "        [163.1542 ],\n",
              "        [166.27423],\n",
              "        [169.39424],\n",
              "        [172.51427],\n",
              "        [175.63426],\n",
              "        [178.75429],\n",
              "        [181.87433],\n",
              "        [184.99435],\n",
              "        [188.11435],\n",
              "        [191.23438],\n",
              "        [194.35439],\n",
              "        [197.47441],\n",
              "        [200.59442],\n",
              "        [203.71445],\n",
              "        [206.83446],\n",
              "        [209.95448],\n",
              "        [213.07451]], dtype=float32),\n",
              " <tf.Tensor: shape=(24,), dtype=int32, numpy=\n",
              " array([130, 133, 136, 139, 142, 145, 148, 151, 154, 157, 160, 163, 166,\n",
              "        169, 172, 175, 178, 181, 184, 187, 190, 193, 196, 199], dtype=int32)>)"
            ]
          },
          "metadata": {},
          "execution_count": 48
        }
      ]
    },
    {
      "cell_type": "code",
      "source": [
        "y_test_inter"
      ],
      "metadata": {
        "colab": {
          "base_uri": "https://localhost:8080/"
        },
        "id": "T4MUhCFlZvsf",
        "outputId": "20672120-aa63-4ab2-cafd-66c14a428e77"
      },
      "execution_count": null,
      "outputs": [
        {
          "output_type": "execute_result",
          "data": {
            "text/plain": [
              "<tf.Tensor: shape=(24,), dtype=int32, numpy=\n",
              "array([140, 143, 146, 149, 152, 155, 158, 161, 164, 167, 170, 173, 176,\n",
              "       179, 182, 185, 188, 191, 194, 197, 200, 203, 206, 209], dtype=int32)>"
            ]
          },
          "metadata": {},
          "execution_count": 49
        }
      ]
    },
    {
      "cell_type": "code",
      "source": [
        "model_demo.summary()"
      ],
      "metadata": {
        "colab": {
          "base_uri": "https://localhost:8080/"
        },
        "id": "ltDY2yvYZ3fN",
        "outputId": "66896dac-20e4-4d1f-f0bf-37fe9bbd9e45"
      },
      "execution_count": null,
      "outputs": [
        {
          "output_type": "stream",
          "name": "stdout",
          "text": [
            "Model: \"sequential_7\"\n",
            "_________________________________________________________________\n",
            " Layer (type)                Output Shape              Param #   \n",
            "=================================================================\n",
            " Input_layer (Dense)         (None, 50)                100       \n",
            "                                                                 \n",
            " Output_layers (Dense)       (None, 1)                 51        \n",
            "                                                                 \n",
            "=================================================================\n",
            "Total params: 151 (604.00 Byte)\n",
            "Trainable params: 151 (604.00 Byte)\n",
            "Non-trainable params: 0 (0.00 Byte)\n",
            "_________________________________________________________________\n"
          ]
        }
      ]
    },
    {
      "cell_type": "code",
      "source": [
        "plot_prediction(train_data=x_train_inter,\n",
        "                train_labels=y_train_inter,\n",
        "                test_data=x_test_inter,\n",
        "                test_labels=y_test_inter,\n",
        "                predictions=y_pred_inter)\n"
      ],
      "metadata": {
        "colab": {
          "base_uri": "https://localhost:8080/",
          "height": 599
        },
        "id": "rHY1hKnxl1QD",
        "outputId": "f6e10d3b-b087-4875-ee65-e0ed89361acd"
      },
      "execution_count": null,
      "outputs": [
        {
          "output_type": "display_data",
          "data": {
            "text/plain": [
              "<Figure size 1000x700 with 1 Axes>"
            ],
            "image/png": "[encoded data removed]"
          },
          "metadata": {}
        }
      ]
    },
    {
      "cell_type": "markdown",
      "source": [
        "### just for fun lets solve one python problem\n",
        "\n",
        "**rotate the list**\n",
        "\n",
        "* you have value of rotation `k=3`\n",
        "\n",
        "**input -** [1,2,3,4,5,6,7]\n",
        "\n",
        "**output should be -** [5,6,7,1,2,3,4]\n",
        "\n"
      ],
      "metadata": {
        "id": "YA8GtUMAci0H"
      }
    },
    {
      "cell_type": "code",
      "source": [
        "lst = [1, 2, 3, 4, 5, 6, 7]"
      ],
      "metadata": {
        "id": "zT87hTu0ngoq"
      },
      "execution_count": null,
      "outputs": []
    },
    {
      "cell_type": "code",
      "source": [
        "k = int(input())\n",
        "\n",
        "for i in range(k):\n",
        "  rotate_val = lst[-1]\n",
        "  lst.pop(-1)\n",
        "  lst.insert(0, rotate_val)\n",
        "\n",
        "print(lst)\n"
      ],
      "metadata": {
        "colab": {
          "base_uri": "https://localhost:8080/"
        },
        "id": "G4zVbnWWmHL1",
        "outputId": "a33d2952-0500-4712-b2e4-9e325d884992"
      },
      "execution_count": null,
      "outputs": [
        {
          "output_type": "stream",
          "name": "stdout",
          "text": [
            "5\n",
            "[5, 6, 7, 1, 2, 3, 4]\n"
          ]
        }
      ]
    },
    {
      "cell_type": "code",
      "source": [
        "lst"
      ],
      "metadata": {
        "colab": {
          "base_uri": "https://localhost:8080/"
        },
        "id": "SFikqI5MnkEp",
        "outputId": "cfc00864-6459-4c80-d93f-484844b9e05d"
      },
      "execution_count": null,
      "outputs": [
        {
          "output_type": "execute_result",
          "data": {
            "text/plain": [
              "[3, 4, 5, 6, 7, 1, 2]"
            ]
          },
          "metadata": {},
          "execution_count": 54
        }
      ]
    },
    {
      "cell_type": "code",
      "source": [
        "k = 5\n",
        "lst_element = lst[-k:]\n",
        "first_element = lst[:-k]\n",
        "final_lst = lst_element + first_element\n",
        "final_lst"
      ],
      "metadata": {
        "colab": {
          "base_uri": "https://localhost:8080/"
        },
        "id": "4HNez-3gnkTK",
        "outputId": "9f369415-56ed-4fc1-cad7-1e9473739c38"
      },
      "execution_count": null,
      "outputs": [
        {
          "output_type": "execute_result",
          "data": {
            "text/plain": [
              "[5, 6, 7, 1, 2, 3, 4]"
            ]
          },
          "metadata": {},
          "execution_count": 55
        }
      ]
    },
    {
      "cell_type": "markdown",
      "source": [
        "### Just to revise tensor with basic neural network model.\n",
        "\n",
        "* first create a simple data with tensorflow.\n",
        "* split data with train and test data set\n",
        "* let build a model\n",
        "*  predict model"
      ],
      "metadata": {
        "id": "QmPfffZVnulW"
      }
    },
    {
      "cell_type": "code",
      "source": [
        "# !pip install -U scikit-learn\n",
        "\n",
        "import tensorflow as tf\n",
        "from sklearn.model_selection import train_test_split\n",
        "import matplotlib.pyplot as plt"
      ],
      "metadata": {
        "id": "QufHrNaMwtLT"
      },
      "execution_count": null,
      "outputs": []
    },
    {
      "cell_type": "code",
      "source": [
        "x = tf.range(-200, 200, 4)\n",
        "y = x+10\n",
        "x, y"
      ],
      "metadata": {
        "colab": {
          "base_uri": "https://localhost:8080/"
        },
        "id": "rOGwceDvxRel",
        "outputId": "1358acdc-380d-4896-cb16-45cafaee7e45"
      },
      "execution_count": null,
      "outputs": [
        {
          "output_type": "execute_result",
          "data": {
            "text/plain": [
              "(<tf.Tensor: shape=(100,), dtype=int32, numpy=\n",
              " array([-200, -196, -192, -188, -184, -180, -176, -172, -168, -164, -160,\n",
              "        -156, -152, -148, -144, -140, -136, -132, -128, -124, -120, -116,\n",
              "        -112, -108, -104, -100,  -96,  -92,  -88,  -84,  -80,  -76,  -72,\n",
              "         -68,  -64,  -60,  -56,  -52,  -48,  -44,  -40,  -36,  -32,  -28,\n",
              "         -24,  -20,  -16,  -12,   -8,   -4,    0,    4,    8,   12,   16,\n",
              "          20,   24,   28,   32,   36,   40,   44,   48,   52,   56,   60,\n",
              "          64,   68,   72,   76,   80,   84,   88,   92,   96,  100,  104,\n",
              "         108,  112,  116,  120,  124,  128,  132,  136,  140,  144,  148,\n",
              "         152,  156,  160,  164,  168,  172,  176,  180,  184,  188,  192,\n",
              "         196], dtype=int32)>,\n",
              " <tf.Tensor: shape=(100,), dtype=int32, numpy=\n",
              " array([-190, -186, -182, -178, -174, -170, -166, -162, -158, -154, -150,\n",
              "        -146, -142, -138, -134, -130, -126, -122, -118, -114, -110, -106,\n",
              "        -102,  -98,  -94,  -90,  -86,  -82,  -78,  -74,  -70,  -66,  -62,\n",
              "         -58,  -54,  -50,  -46,  -42,  -38,  -34,  -30,  -26,  -22,  -18,\n",
              "         -14,  -10,   -6,   -2,    2,    6,   10,   14,   18,   22,   26,\n",
              "          30,   34,   38,   42,   46,   50,   54,   58,   62,   66,   70,\n",
              "          74,   78,   82,   86,   90,   94,   98,  102,  106,  110,  114,\n",
              "         118,  122,  126,  130,  134,  138,  142,  146,  150,  154,  158,\n",
              "         162,  166,  170,  174,  178,  182,  186,  190,  194,  198,  202,\n",
              "         206], dtype=int32)>)"
            ]
          },
          "metadata": {},
          "execution_count": 57
        }
      ]
    },
    {
      "cell_type": "code",
      "source": [
        "x_train = x[:75]\n",
        "x_test = x[75:]\n",
        "\n",
        "y_train = y[:75]\n",
        "y_test = y[75:]\n",
        "\n",
        "x_train, x_test, y_train, y_test"
      ],
      "metadata": {
        "colab": {
          "base_uri": "https://localhost:8080/"
        },
        "id": "vgjY8-a2xZqZ",
        "outputId": "2ef57bd3-c7ff-4f99-bfbc-1bdd9511a0a0"
      },
      "execution_count": null,
      "outputs": [
        {
          "output_type": "execute_result",
          "data": {
            "text/plain": [
              "(<tf.Tensor: shape=(75,), dtype=int32, numpy=\n",
              " array([-200, -196, -192, -188, -184, -180, -176, -172, -168, -164, -160,\n",
              "        -156, -152, -148, -144, -140, -136, -132, -128, -124, -120, -116,\n",
              "        -112, -108, -104, -100,  -96,  -92,  -88,  -84,  -80,  -76,  -72,\n",
              "         -68,  -64,  -60,  -56,  -52,  -48,  -44,  -40,  -36,  -32,  -28,\n",
              "         -24,  -20,  -16,  -12,   -8,   -4,    0,    4,    8,   12,   16,\n",
              "          20,   24,   28,   32,   36,   40,   44,   48,   52,   56,   60,\n",
              "          64,   68,   72,   76,   80,   84,   88,   92,   96], dtype=int32)>,\n",
              " <tf.Tensor: shape=(25,), dtype=int32, numpy=\n",
              " array([100, 104, 108, 112, 116, 120, 124, 128, 132, 136, 140, 144, 148,\n",
              "        152, 156, 160, 164, 168, 172, 176, 180, 184, 188, 192, 196],\n",
              "       dtype=int32)>,\n",
              " <tf.Tensor: shape=(75,), dtype=int32, numpy=\n",
              " array([-190, -186, -182, -178, -174, -170, -166, -162, -158, -154, -150,\n",
              "        -146, -142, -138, -134, -130, -126, -122, -118, -114, -110, -106,\n",
              "        -102,  -98,  -94,  -90,  -86,  -82,  -78,  -74,  -70,  -66,  -62,\n",
              "         -58,  -54,  -50,  -46,  -42,  -38,  -34,  -30,  -26,  -22,  -18,\n",
              "         -14,  -10,   -6,   -2,    2,    6,   10,   14,   18,   22,   26,\n",
              "          30,   34,   38,   42,   46,   50,   54,   58,   62,   66,   70,\n",
              "          74,   78,   82,   86,   90,   94,   98,  102,  106], dtype=int32)>,\n",
              " <tf.Tensor: shape=(25,), dtype=int32, numpy=\n",
              " array([110, 114, 118, 122, 126, 130, 134, 138, 142, 146, 150, 154, 158,\n",
              "        162, 166, 170, 174, 178, 182, 186, 190, 194, 198, 202, 206],\n",
              "       dtype=int32)>)"
            ]
          },
          "metadata": {},
          "execution_count": 58
        }
      ]
    },
    {
      "cell_type": "code",
      "source": [
        "# plotting a data for visualing\n",
        "\n",
        "plt.figure(figsize=[10, 7])\n",
        "plt.scatter(x_train, y_train, c=\"r\", label=\"trainnig date\")\n",
        "plt.scatter(x_test, y_test, c=\"b\", label=\"testing data\")\n",
        "plt.legend()"
      ],
      "metadata": {
        "colab": {
          "base_uri": "https://localhost:8080/",
          "height": 616
        },
        "id": "p-iAPcdIxlu_",
        "outputId": "cec50896-3af7-438b-d7ae-ef614d053961"
      },
      "execution_count": null,
      "outputs": [
        {
          "output_type": "execute_result",
          "data": {
            "text/plain": [
              "<matplotlib.legend.Legend at 0x7d298dadfc70>"
            ]
          },
          "metadata": {},
          "execution_count": 59
        },
        {
          "output_type": "display_data",
          "data": {
            "text/plain": [
              "<Figure size 1000x700 with 1 Axes>"
            ],
            "image/png": "[encoded data removed]"
          },
          "metadata": {}
        }
      ]
    },
    {
      "cell_type": "code",
      "source": [
        "# Creating a model\n",
        "model = tf.keras.Sequential([\n",
        "    tf.keras.Input(shape=(1,)),\n",
        "    tf.keras.layers.Dense(1)\n",
        "])\n",
        "\n",
        "# compile model\n",
        "model.compile(loss=tf.keras.losses.mae,\n",
        "              optimizer=tf.keras.optimizers.SGD(),\n",
        "              metrics=['mae'])\n",
        "\n",
        "# fit the model\n",
        "model.fit(x_train, y_train, epochs=50)\n"
      ],
      "metadata": {
        "colab": {
          "base_uri": "https://localhost:8080/"
        },
        "id": "Eo8hgEaTy9gb",
        "outputId": "c782975b-30d6-4dda-ab6f-4c3205ab06d2"
      },
      "execution_count": null,
      "outputs": [
        {
          "output_type": "stream",
          "name": "stdout",
          "text": [
            "Epoch 1/50\n",
            "3/3 [==============================] - 0s 5ms/step - loss: 39.5207 - mae: 39.5207\n",
            "Epoch 2/50\n",
            "3/3 [==============================] - 0s 4ms/step - loss: 33.7959 - mae: 33.7959\n",
            "Epoch 3/50\n",
            "3/3 [==============================] - 0s 5ms/step - loss: 36.0952 - mae: 36.0952\n",
            "Epoch 4/50\n",
            "3/3 [==============================] - 0s 5ms/step - loss: 31.1263 - mae: 31.1263\n",
            "Epoch 5/50\n",
            "3/3 [==============================] - 0s 5ms/step - loss: 41.8739 - mae: 41.8739\n",
            "Epoch 6/50\n",
            "3/3 [==============================] - 0s 5ms/step - loss: 45.9834 - mae: 45.9834\n",
            "Epoch 7/50\n",
            "3/3 [==============================] - 0s 4ms/step - loss: 32.6254 - mae: 32.6254\n",
            "Epoch 8/50\n",
            "3/3 [==============================] - 0s 5ms/step - loss: 33.4269 - mae: 33.4269\n",
            "Epoch 9/50\n",
            "3/3 [==============================] - 0s 5ms/step - loss: 35.2572 - mae: 35.2572\n",
            "Epoch 10/50\n",
            "3/3 [==============================] - 0s 5ms/step - loss: 38.4044 - mae: 38.4044\n",
            "Epoch 11/50\n",
            "3/3 [==============================] - 0s 7ms/step - loss: 33.2689 - mae: 33.2689\n",
            "Epoch 12/50\n",
            "3/3 [==============================] - 0s 5ms/step - loss: 34.7132 - mae: 34.7132\n",
            "Epoch 13/50\n",
            "3/3 [==============================] - 0s 4ms/step - loss: 37.5478 - mae: 37.5478\n",
            "Epoch 14/50\n",
            "3/3 [==============================] - 0s 5ms/step - loss: 37.3216 - mae: 37.3216\n",
            "Epoch 15/50\n",
            "3/3 [==============================] - 0s 5ms/step - loss: 25.7451 - mae: 25.7451\n",
            "Epoch 16/50\n",
            "3/3 [==============================] - 0s 5ms/step - loss: 32.8958 - mae: 32.8958\n",
            "Epoch 17/50\n",
            "3/3 [==============================] - 0s 5ms/step - loss: 32.0970 - mae: 32.0970\n",
            "Epoch 18/50\n",
            "3/3 [==============================] - 0s 5ms/step - loss: 32.5273 - mae: 32.5273\n",
            "Epoch 19/50\n",
            "3/3 [==============================] - 0s 4ms/step - loss: 35.4794 - mae: 35.4794\n",
            "Epoch 20/50\n",
            "3/3 [==============================] - 0s 5ms/step - loss: 32.2187 - mae: 32.2187\n",
            "Epoch 21/50\n",
            "3/3 [==============================] - 0s 5ms/step - loss: 28.6368 - mae: 28.6368\n",
            "Epoch 22/50\n",
            "3/3 [==============================] - 0s 5ms/step - loss: 32.4864 - mae: 32.4864\n",
            "Epoch 23/50\n",
            "3/3 [==============================] - 0s 4ms/step - loss: 34.6010 - mae: 34.6010\n",
            "Epoch 24/50\n",
            "3/3 [==============================] - 0s 4ms/step - loss: 34.1395 - mae: 34.1395\n",
            "Epoch 25/50\n",
            "3/3 [==============================] - 0s 4ms/step - loss: 37.9933 - mae: 37.9933\n",
            "Epoch 26/50\n",
            "3/3 [==============================] - 0s 5ms/step - loss: 20.8448 - mae: 20.8448\n",
            "Epoch 27/50\n",
            "3/3 [==============================] - 0s 4ms/step - loss: 32.1651 - mae: 32.1651\n",
            "Epoch 28/50\n",
            "3/3 [==============================] - 0s 5ms/step - loss: 33.3316 - mae: 33.3316\n",
            "Epoch 29/50\n",
            "3/3 [==============================] - 0s 5ms/step - loss: 46.1692 - mae: 46.1692\n",
            "Epoch 30/50\n",
            "3/3 [==============================] - 0s 5ms/step - loss: 35.4140 - mae: 35.4140\n",
            "Epoch 31/50\n",
            "3/3 [==============================] - 0s 5ms/step - loss: 33.5834 - mae: 33.5834\n",
            "Epoch 32/50\n",
            "3/3 [==============================] - 0s 5ms/step - loss: 36.3186 - mae: 36.3186\n",
            "Epoch 33/50\n",
            "3/3 [==============================] - 0s 4ms/step - loss: 34.0748 - mae: 34.0748\n",
            "Epoch 34/50\n",
            "3/3 [==============================] - 0s 4ms/step - loss: 35.5743 - mae: 35.5743\n",
            "Epoch 35/50\n",
            "3/3 [==============================] - 0s 4ms/step - loss: 35.7167 - mae: 35.7167\n",
            "Epoch 36/50\n",
            "3/3 [==============================] - 0s 4ms/step - loss: 33.2879 - mae: 33.2879\n",
            "Epoch 37/50\n",
            "3/3 [==============================] - 0s 4ms/step - loss: 36.7517 - mae: 36.7517\n",
            "Epoch 38/50\n",
            "3/3 [==============================] - 0s 4ms/step - loss: 28.4150 - mae: 28.4150\n",
            "Epoch 39/50\n",
            "3/3 [==============================] - 0s 4ms/step - loss: 30.2096 - mae: 30.2096\n",
            "Epoch 40/50\n",
            "3/3 [==============================] - 0s 4ms/step - loss: 34.9178 - mae: 34.9178\n",
            "Epoch 41/50\n",
            "3/3 [==============================] - 0s 4ms/step - loss: 28.9667 - mae: 28.9667\n",
            "Epoch 42/50\n",
            "3/3 [==============================] - 0s 4ms/step - loss: 36.9965 - mae: 36.9965\n",
            "Epoch 43/50\n",
            "3/3 [==============================] - 0s 8ms/step - loss: 36.2704 - mae: 36.2704\n",
            "Epoch 44/50\n",
            "3/3 [==============================] - 0s 4ms/step - loss: 36.0400 - mae: 36.0400\n",
            "Epoch 45/50\n",
            "3/3 [==============================] - 0s 6ms/step - loss: 25.9425 - mae: 25.9425\n",
            "Epoch 46/50\n",
            "3/3 [==============================] - 0s 4ms/step - loss: 38.9291 - mae: 38.9291\n",
            "Epoch 47/50\n",
            "3/3 [==============================] - 0s 5ms/step - loss: 22.9224 - mae: 22.9224\n",
            "Epoch 48/50\n",
            "3/3 [==============================] - 0s 5ms/step - loss: 35.7225 - mae: 35.7225\n",
            "Epoch 49/50\n",
            "3/3 [==============================] - 0s 5ms/step - loss: 25.1830 - mae: 25.1830\n",
            "Epoch 50/50\n",
            "3/3 [==============================] - 0s 4ms/step - loss: 32.4416 - mae: 32.4416\n"
          ]
        },
        {
          "output_type": "execute_result",
          "data": {
            "text/plain": [
              "<keras.src.callbacks.History at 0x7d2988208340>"
            ]
          },
          "metadata": {},
          "execution_count": 60
        }
      ]
    },
    {
      "cell_type": "code",
      "source": [
        "model.summary()"
      ],
      "metadata": {
        "colab": {
          "base_uri": "https://localhost:8080/"
        },
        "id": "BgR1FE8qBtuv",
        "outputId": "e7a0d8e0-1bcc-42de-8f75-aa47526863cc"
      },
      "execution_count": null,
      "outputs": [
        {
          "output_type": "stream",
          "name": "stdout",
          "text": [
            "Model: \"sequential_8\"\n",
            "_________________________________________________________________\n",
            " Layer (type)                Output Shape              Param #   \n",
            "=================================================================\n",
            " dense_5 (Dense)             (None, 1)                 2         \n",
            "                                                                 \n",
            "=================================================================\n",
            "Total params: 2 (8.00 Byte)\n",
            "Trainable params: 2 (8.00 Byte)\n",
            "Non-trainable params: 0 (0.00 Byte)\n",
            "_________________________________________________________________\n"
          ]
        }
      ]
    },
    {
      "cell_type": "code",
      "source": [
        "y_pred = model.predict(x_test)\n",
        "y_pred, x_test"
      ],
      "metadata": {
        "colab": {
          "base_uri": "https://localhost:8080/"
        },
        "id": "ZDOHBu82CFOz",
        "outputId": "ab8d5c2a-a82a-4d09-ea27-8ad2f96eaa34"
      },
      "execution_count": null,
      "outputs": [
        {
          "output_type": "stream",
          "name": "stdout",
          "text": [
            "1/1 [==============================] - 0s 49ms/step\n"
          ]
        },
        {
          "output_type": "execute_result",
          "data": {
            "text/plain": [
              "(array([[130.94514],\n",
              "        [136.16728],\n",
              "        [141.3894 ],\n",
              "        [146.61154],\n",
              "        [151.83368],\n",
              "        [157.05582],\n",
              "        [162.27794],\n",
              "        [167.50008],\n",
              "        [172.72221],\n",
              "        [177.94434],\n",
              "        [183.16647],\n",
              "        [188.38861],\n",
              "        [193.61075],\n",
              "        [198.83287],\n",
              "        [204.05501],\n",
              "        [209.27715],\n",
              "        [214.49927],\n",
              "        [219.7214 ],\n",
              "        [224.94354],\n",
              "        [230.16568],\n",
              "        [235.3878 ],\n",
              "        [240.60994],\n",
              "        [245.83208],\n",
              "        [251.0542 ],\n",
              "        [256.27634]], dtype=float32),\n",
              " <tf.Tensor: shape=(25,), dtype=int32, numpy=\n",
              " array([100, 104, 108, 112, 116, 120, 124, 128, 132, 136, 140, 144, 148,\n",
              "        152, 156, 160, 164, 168, 172, 176, 180, 184, 188, 192, 196],\n",
              "       dtype=int32)>)"
            ]
          },
          "metadata": {},
          "execution_count": 62
        }
      ]
    },
    {
      "cell_type": "code",
      "source": [
        "y_test"
      ],
      "metadata": {
        "colab": {
          "base_uri": "https://localhost:8080/"
        },
        "id": "-6krE5wACM7G",
        "outputId": "eac47218-96f6-41e7-d227-46bf4a65e86e"
      },
      "execution_count": null,
      "outputs": [
        {
          "output_type": "execute_result",
          "data": {
            "text/plain": [
              "<tf.Tensor: shape=(25,), dtype=int32, numpy=\n",
              "array([110, 114, 118, 122, 126, 130, 134, 138, 142, 146, 150, 154, 158,\n",
              "       162, 166, 170, 174, 178, 182, 186, 190, 194, 198, 202, 206],\n",
              "      dtype=int32)>"
            ]
          },
          "metadata": {},
          "execution_count": 63
        }
      ]
    },
    {
      "cell_type": "code",
      "source": [
        "x = tf.range(-100, 200)\n",
        "y = x + 24\n",
        "x, y"
      ],
      "metadata": {
        "id": "yFJA7Qr0mx_5",
        "colab": {
          "base_uri": "https://localhost:8080/"
        },
        "outputId": "74485b4e-e921-4294-87aa-a7c72940836a"
      },
      "execution_count": null,
      "outputs": [
        {
          "output_type": "execute_result",
          "data": {
            "text/plain": [
              "(<tf.Tensor: shape=(300,), dtype=int32, numpy=\n",
              " array([-100,  -99,  -98,  -97,  -96,  -95,  -94,  -93,  -92,  -91,  -90,\n",
              "         -89,  -88,  -87,  -86,  -85,  -84,  -83,  -82,  -81,  -80,  -79,\n",
              "         -78,  -77,  -76,  -75,  -74,  -73,  -72,  -71,  -70,  -69,  -68,\n",
              "         -67,  -66,  -65,  -64,  -63,  -62,  -61,  -60,  -59,  -58,  -57,\n",
              "         -56,  -55,  -54,  -53,  -52,  -51,  -50,  -49,  -48,  -47,  -46,\n",
              "         -45,  -44,  -43,  -42,  -41,  -40,  -39,  -38,  -37,  -36,  -35,\n",
              "         -34,  -33,  -32,  -31,  -30,  -29,  -28,  -27,  -26,  -25,  -24,\n",
              "         -23,  -22,  -21,  -20,  -19,  -18,  -17,  -16,  -15,  -14,  -13,\n",
              "         -12,  -11,  -10,   -9,   -8,   -7,   -6,   -5,   -4,   -3,   -2,\n",
              "          -1,    0,    1,    2,    3,    4,    5,    6,    7,    8,    9,\n",
              "          10,   11,   12,   13,   14,   15,   16,   17,   18,   19,   20,\n",
              "          21,   22,   23,   24,   25,   26,   27,   28,   29,   30,   31,\n",
              "          32,   33,   34,   35,   36,   37,   38,   39,   40,   41,   42,\n",
              "          43,   44,   45,   46,   47,   48,   49,   50,   51,   52,   53,\n",
              "          54,   55,   56,   57,   58,   59,   60,   61,   62,   63,   64,\n",
              "          65,   66,   67,   68,   69,   70,   71,   72,   73,   74,   75,\n",
              "          76,   77,   78,   79,   80,   81,   82,   83,   84,   85,   86,\n",
              "          87,   88,   89,   90,   91,   92,   93,   94,   95,   96,   97,\n",
              "          98,   99,  100,  101,  102,  103,  104,  105,  106,  107,  108,\n",
              "         109,  110,  111,  112,  113,  114,  115,  116,  117,  118,  119,\n",
              "         120,  121,  122,  123,  124,  125,  126,  127,  128,  129,  130,\n",
              "         131,  132,  133,  134,  135,  136,  137,  138,  139,  140,  141,\n",
              "         142,  143,  144,  145,  146,  147,  148,  149,  150,  151,  152,\n",
              "         153,  154,  155,  156,  157,  158,  159,  160,  161,  162,  163,\n",
              "         164,  165,  166,  167,  168,  169,  170,  171,  172,  173,  174,\n",
              "         175,  176,  177,  178,  179,  180,  181,  182,  183,  184,  185,\n",
              "         186,  187,  188,  189,  190,  191,  192,  193,  194,  195,  196,\n",
              "         197,  198,  199], dtype=int32)>,\n",
              " <tf.Tensor: shape=(300,), dtype=int32, numpy=\n",
              " array([-76, -75, -74, -73, -72, -71, -70, -69, -68, -67, -66, -65, -64,\n",
              "        -63, -62, -61, -60, -59, -58, -57, -56, -55, -54, -53, -52, -51,\n",
              "        -50, -49, -48, -47, -46, -45, -44, -43, -42, -41, -40, -39, -38,\n",
              "        -37, -36, -35, -34, -33, -32, -31, -30, -29, -28, -27, -26, -25,\n",
              "        -24, -23, -22, -21, -20, -19, -18, -17, -16, -15, -14, -13, -12,\n",
              "        -11, -10,  -9,  -8,  -7,  -6,  -5,  -4,  -3,  -2,  -1,   0,   1,\n",
              "          2,   3,   4,   5,   6,   7,   8,   9,  10,  11,  12,  13,  14,\n",
              "         15,  16,  17,  18,  19,  20,  21,  22,  23,  24,  25,  26,  27,\n",
              "         28,  29,  30,  31,  32,  33,  34,  35,  36,  37,  38,  39,  40,\n",
              "         41,  42,  43,  44,  45,  46,  47,  48,  49,  50,  51,  52,  53,\n",
              "         54,  55,  56,  57,  58,  59,  60,  61,  62,  63,  64,  65,  66,\n",
              "         67,  68,  69,  70,  71,  72,  73,  74,  75,  76,  77,  78,  79,\n",
              "         80,  81,  82,  83,  84,  85,  86,  87,  88,  89,  90,  91,  92,\n",
              "         93,  94,  95,  96,  97,  98,  99, 100, 101, 102, 103, 104, 105,\n",
              "        106, 107, 108, 109, 110, 111, 112, 113, 114, 115, 116, 117, 118,\n",
              "        119, 120, 121, 122, 123, 124, 125, 126, 127, 128, 129, 130, 131,\n",
              "        132, 133, 134, 135, 136, 137, 138, 139, 140, 141, 142, 143, 144,\n",
              "        145, 146, 147, 148, 149, 150, 151, 152, 153, 154, 155, 156, 157,\n",
              "        158, 159, 160, 161, 162, 163, 164, 165, 166, 167, 168, 169, 170,\n",
              "        171, 172, 173, 174, 175, 176, 177, 178, 179, 180, 181, 182, 183,\n",
              "        184, 185, 186, 187, 188, 189, 190, 191, 192, 193, 194, 195, 196,\n",
              "        197, 198, 199, 200, 201, 202, 203, 204, 205, 206, 207, 208, 209,\n",
              "        210, 211, 212, 213, 214, 215, 216, 217, 218, 219, 220, 221, 222,\n",
              "        223], dtype=int32)>)"
            ]
          },
          "metadata": {},
          "execution_count": 74
        }
      ]
    },
    {
      "cell_type": "code",
      "source": [
        "x_train = x[:260]\n",
        "y_train = y[:260]\n",
        "\n",
        "x_test = x[260:]\n",
        "y_test = y[260:]\n",
        "\n",
        "x_train, y_train, x_test, y_test"
      ],
      "metadata": {
        "colab": {
          "base_uri": "https://localhost:8080/"
        },
        "id": "uT_tB9DevckN",
        "outputId": "46a1215c-54a8-42c7-8700-605685362a4b"
      },
      "execution_count": null,
      "outputs": [
        {
          "output_type": "execute_result",
          "data": {
            "text/plain": [
              "(<tf.Tensor: shape=(260,), dtype=int32, numpy=\n",
              " array([-100,  -99,  -98,  -97,  -96,  -95,  -94,  -93,  -92,  -91,  -90,\n",
              "         -89,  -88,  -87,  -86,  -85,  -84,  -83,  -82,  -81,  -80,  -79,\n",
              "         -78,  -77,  -76,  -75,  -74,  -73,  -72,  -71,  -70,  -69,  -68,\n",
              "         -67,  -66,  -65,  -64,  -63,  -62,  -61,  -60,  -59,  -58,  -57,\n",
              "         -56,  -55,  -54,  -53,  -52,  -51,  -50,  -49,  -48,  -47,  -46,\n",
              "         -45,  -44,  -43,  -42,  -41,  -40,  -39,  -38,  -37,  -36,  -35,\n",
              "         -34,  -33,  -32,  -31,  -30,  -29,  -28,  -27,  -26,  -25,  -24,\n",
              "         -23,  -22,  -21,  -20,  -19,  -18,  -17,  -16,  -15,  -14,  -13,\n",
              "         -12,  -11,  -10,   -9,   -8,   -7,   -6,   -5,   -4,   -3,   -2,\n",
              "          -1,    0,    1,    2,    3,    4,    5,    6,    7,    8,    9,\n",
              "          10,   11,   12,   13,   14,   15,   16,   17,   18,   19,   20,\n",
              "          21,   22,   23,   24,   25,   26,   27,   28,   29,   30,   31,\n",
              "          32,   33,   34,   35,   36,   37,   38,   39,   40,   41,   42,\n",
              "          43,   44,   45,   46,   47,   48,   49,   50,   51,   52,   53,\n",
              "          54,   55,   56,   57,   58,   59,   60,   61,   62,   63,   64,\n",
              "          65,   66,   67,   68,   69,   70,   71,   72,   73,   74,   75,\n",
              "          76,   77,   78,   79,   80,   81,   82,   83,   84,   85,   86,\n",
              "          87,   88,   89,   90,   91,   92,   93,   94,   95,   96,   97,\n",
              "          98,   99,  100,  101,  102,  103,  104,  105,  106,  107,  108,\n",
              "         109,  110,  111,  112,  113,  114,  115,  116,  117,  118,  119,\n",
              "         120,  121,  122,  123,  124,  125,  126,  127,  128,  129,  130,\n",
              "         131,  132,  133,  134,  135,  136,  137,  138,  139,  140,  141,\n",
              "         142,  143,  144,  145,  146,  147,  148,  149,  150,  151,  152,\n",
              "         153,  154,  155,  156,  157,  158,  159], dtype=int32)>,\n",
              " <tf.Tensor: shape=(260,), dtype=int32, numpy=\n",
              " array([-76, -75, -74, -73, -72, -71, -70, -69, -68, -67, -66, -65, -64,\n",
              "        -63, -62, -61, -60, -59, -58, -57, -56, -55, -54, -53, -52, -51,\n",
              "        -50, -49, -48, -47, -46, -45, -44, -43, -42, -41, -40, -39, -38,\n",
              "        -37, -36, -35, -34, -33, -32, -31, -30, -29, -28, -27, -26, -25,\n",
              "        -24, -23, -22, -21, -20, -19, -18, -17, -16, -15, -14, -13, -12,\n",
              "        -11, -10,  -9,  -8,  -7,  -6,  -5,  -4,  -3,  -2,  -1,   0,   1,\n",
              "          2,   3,   4,   5,   6,   7,   8,   9,  10,  11,  12,  13,  14,\n",
              "         15,  16,  17,  18,  19,  20,  21,  22,  23,  24,  25,  26,  27,\n",
              "         28,  29,  30,  31,  32,  33,  34,  35,  36,  37,  38,  39,  40,\n",
              "         41,  42,  43,  44,  45,  46,  47,  48,  49,  50,  51,  52,  53,\n",
              "         54,  55,  56,  57,  58,  59,  60,  61,  62,  63,  64,  65,  66,\n",
              "         67,  68,  69,  70,  71,  72,  73,  74,  75,  76,  77,  78,  79,\n",
              "         80,  81,  82,  83,  84,  85,  86,  87,  88,  89,  90,  91,  92,\n",
              "         93,  94,  95,  96,  97,  98,  99, 100, 101, 102, 103, 104, 105,\n",
              "        106, 107, 108, 109, 110, 111, 112, 113, 114, 115, 116, 117, 118,\n",
              "        119, 120, 121, 122, 123, 124, 125, 126, 127, 128, 129, 130, 131,\n",
              "        132, 133, 134, 135, 136, 137, 138, 139, 140, 141, 142, 143, 144,\n",
              "        145, 146, 147, 148, 149, 150, 151, 152, 153, 154, 155, 156, 157,\n",
              "        158, 159, 160, 161, 162, 163, 164, 165, 166, 167, 168, 169, 170,\n",
              "        171, 172, 173, 174, 175, 176, 177, 178, 179, 180, 181, 182, 183],\n",
              "       dtype=int32)>,\n",
              " <tf.Tensor: shape=(40,), dtype=int32, numpy=\n",
              " array([160, 161, 162, 163, 164, 165, 166, 167, 168, 169, 170, 171, 172,\n",
              "        173, 174, 175, 176, 177, 178, 179, 180, 181, 182, 183, 184, 185,\n",
              "        186, 187, 188, 189, 190, 191, 192, 193, 194, 195, 196, 197, 198,\n",
              "        199], dtype=int32)>,\n",
              " <tf.Tensor: shape=(40,), dtype=int32, numpy=\n",
              " array([184, 185, 186, 187, 188, 189, 190, 191, 192, 193, 194, 195, 196,\n",
              "        197, 198, 199, 200, 201, 202, 203, 204, 205, 206, 207, 208, 209,\n",
              "        210, 211, 212, 213, 214, 215, 216, 217, 218, 219, 220, 221, 222,\n",
              "        223], dtype=int32)>)"
            ]
          },
          "metadata": {},
          "execution_count": 75
        }
      ]
    },
    {
      "cell_type": "code",
      "source": [
        "# plot the graph to check how data looks likes\n",
        "\n",
        "plt.figure(figsize=(7, 10))\n",
        "\n",
        "plt.scatter(x_train, y_train, c=\"r\")\n",
        "plt.scatter(x_test, y_test, c=\"g\")\n",
        "\n",
        "plt.legend()"
      ],
      "metadata": {
        "colab": {
          "base_uri": "https://localhost:8080/",
          "height": 865
        },
        "id": "poikxMievwjQ",
        "outputId": "a32ee10b-98a2-413f-b7ea-d489e4762789"
      },
      "execution_count": null,
      "outputs": [
        {
          "output_type": "stream",
          "name": "stderr",
          "text": [
            "WARNING:matplotlib.legend:No artists with labels found to put in legend.  Note that artists whose label start with an underscore are ignored when legend() is called with no argument.\n"
          ]
        },
        {
          "output_type": "execute_result",
          "data": {
            "text/plain": [
              "<matplotlib.legend.Legend at 0x7d298398a950>"
            ]
          },
          "metadata": {},
          "execution_count": 76
        },
        {
          "output_type": "display_data",
          "data": {
            "text/plain": [
              "<Figure size 700x1000 with 1 Axes>"
            ],
            "image/png": "[encoded data removed]"
          },
          "metadata": {}
        }
      ]
    },
    {
      "cell_type": "code",
      "source": [
        "# create a model\n",
        "model = tf.keras.Sequential([\n",
        "    tf.keras.Input(shape=1),\n",
        "    tf.keras.layers.Dense(50)\n",
        "])\n",
        "\n",
        "# build the model\n",
        "model.compile(loss=tf.keras.losses.mae,\n",
        "              optimizer=tf.keras.optimizers.SGD(),\n",
        "              metrics=[\"mae\"])\n",
        "\n",
        "model.fit(x_train, y_train, epochs=100)"
      ],
      "metadata": {
        "colab": {
          "base_uri": "https://localhost:8080/"
        },
        "id": "Cp4AYjjQvzJE",
        "outputId": "86a02e86-783c-4636-8b08-b42c43d31606"
      },
      "execution_count": null,
      "outputs": [
        {
          "output_type": "stream",
          "name": "stdout",
          "text": [
            "Epoch 1/100\n",
            "9/9 [==============================] - 0s 2ms/step - loss: 71.7704 - mae: 71.7704\n",
            "Epoch 2/100\n",
            "9/9 [==============================] - 0s 2ms/step - loss: 64.0472 - mae: 64.0472\n",
            "Epoch 3/100\n",
            "9/9 [==============================] - 0s 3ms/step - loss: 56.8072 - mae: 56.8072\n",
            "Epoch 4/100\n",
            "9/9 [==============================] - 0s 2ms/step - loss: 49.8435 - mae: 49.8435\n",
            "Epoch 5/100\n",
            "9/9 [==============================] - 0s 2ms/step - loss: 43.3594 - mae: 43.3594\n",
            "Epoch 6/100\n",
            "9/9 [==============================] - 0s 2ms/step - loss: 38.7913 - mae: 38.7913\n",
            "Epoch 7/100\n",
            "9/9 [==============================] - 0s 2ms/step - loss: 34.8042 - mae: 34.8042\n",
            "Epoch 8/100\n",
            "9/9 [==============================] - 0s 2ms/step - loss: 31.8499 - mae: 31.8499\n",
            "Epoch 9/100\n",
            "9/9 [==============================] - 0s 2ms/step - loss: 29.6724 - mae: 29.6724\n",
            "Epoch 10/100\n",
            "9/9 [==============================] - 0s 2ms/step - loss: 27.6546 - mae: 27.6546\n",
            "Epoch 11/100\n",
            "9/9 [==============================] - 0s 2ms/step - loss: 25.6750 - mae: 25.6750\n",
            "Epoch 12/100\n",
            "9/9 [==============================] - 0s 2ms/step - loss: 24.1910 - mae: 24.1910\n",
            "Epoch 13/100\n",
            "9/9 [==============================] - 0s 2ms/step - loss: 22.9223 - mae: 22.9223\n",
            "Epoch 14/100\n",
            "9/9 [==============================] - 0s 2ms/step - loss: 21.5757 - mae: 21.5757\n",
            "Epoch 15/100\n",
            "9/9 [==============================] - 0s 2ms/step - loss: 20.5152 - mae: 20.5152\n",
            "Epoch 16/100\n",
            "9/9 [==============================] - 0s 3ms/step - loss: 19.7772 - mae: 19.7772\n",
            "Epoch 17/100\n",
            "9/9 [==============================] - 0s 2ms/step - loss: 19.3201 - mae: 19.3201\n",
            "Epoch 18/100\n",
            "9/9 [==============================] - 0s 2ms/step - loss: 19.1894 - mae: 19.1894\n",
            "Epoch 19/100\n",
            "9/9 [==============================] - 0s 2ms/step - loss: 19.1889 - mae: 19.1889\n",
            "Epoch 20/100\n",
            "9/9 [==============================] - 0s 2ms/step - loss: 19.1743 - mae: 19.1743\n",
            "Epoch 21/100\n",
            "9/9 [==============================] - 0s 2ms/step - loss: 19.1766 - mae: 19.1766\n",
            "Epoch 22/100\n",
            "9/9 [==============================] - 0s 2ms/step - loss: 19.1433 - mae: 19.1433\n",
            "Epoch 23/100\n",
            "9/9 [==============================] - 0s 2ms/step - loss: 19.1582 - mae: 19.1582\n",
            "Epoch 24/100\n",
            "9/9 [==============================] - 0s 2ms/step - loss: 19.1824 - mae: 19.1824\n",
            "Epoch 25/100\n",
            "9/9 [==============================] - 0s 2ms/step - loss: 19.1651 - mae: 19.1651\n",
            "Epoch 26/100\n",
            "9/9 [==============================] - 0s 3ms/step - loss: 19.1508 - mae: 19.1508\n",
            "Epoch 27/100\n",
            "9/9 [==============================] - 0s 2ms/step - loss: 19.1479 - mae: 19.1479\n",
            "Epoch 28/100\n",
            "9/9 [==============================] - 0s 2ms/step - loss: 19.1514 - mae: 19.1514\n",
            "Epoch 29/100\n",
            "9/9 [==============================] - 0s 2ms/step - loss: 19.1565 - mae: 19.1565\n",
            "Epoch 30/100\n",
            "9/9 [==============================] - 0s 3ms/step - loss: 19.1359 - mae: 19.1359\n",
            "Epoch 31/100\n",
            "9/9 [==============================] - 0s 2ms/step - loss: 19.1425 - mae: 19.1425\n",
            "Epoch 32/100\n",
            "9/9 [==============================] - 0s 2ms/step - loss: 19.1566 - mae: 19.1566\n",
            "Epoch 33/100\n",
            "9/9 [==============================] - 0s 2ms/step - loss: 19.1406 - mae: 19.1406\n",
            "Epoch 34/100\n",
            "9/9 [==============================] - 0s 3ms/step - loss: 19.1511 - mae: 19.1511\n",
            "Epoch 35/100\n",
            "9/9 [==============================] - 0s 2ms/step - loss: 19.1582 - mae: 19.1582\n",
            "Epoch 36/100\n",
            "9/9 [==============================] - 0s 3ms/step - loss: 19.1384 - mae: 19.1384\n",
            "Epoch 37/100\n",
            "9/9 [==============================] - 0s 3ms/step - loss: 19.1305 - mae: 19.1305\n",
            "Epoch 38/100\n",
            "9/9 [==============================] - 0s 2ms/step - loss: 19.1544 - mae: 19.1544\n",
            "Epoch 39/100\n",
            "9/9 [==============================] - 0s 2ms/step - loss: 19.1378 - mae: 19.1378\n",
            "Epoch 40/100\n",
            "9/9 [==============================] - 0s 2ms/step - loss: 19.1316 - mae: 19.1316\n",
            "Epoch 41/100\n",
            "9/9 [==============================] - 0s 2ms/step - loss: 19.1395 - mae: 19.1395\n",
            "Epoch 42/100\n",
            "9/9 [==============================] - 0s 2ms/step - loss: 19.1269 - mae: 19.1269\n",
            "Epoch 43/100\n",
            "9/9 [==============================] - 0s 2ms/step - loss: 19.1347 - mae: 19.1347\n",
            "Epoch 44/100\n",
            "9/9 [==============================] - 0s 2ms/step - loss: 19.1582 - mae: 19.1582\n",
            "Epoch 45/100\n",
            "9/9 [==============================] - 0s 2ms/step - loss: 19.1339 - mae: 19.1339\n",
            "Epoch 46/100\n",
            "9/9 [==============================] - 0s 2ms/step - loss: 19.1409 - mae: 19.1409\n",
            "Epoch 47/100\n",
            "9/9 [==============================] - 0s 3ms/step - loss: 19.1794 - mae: 19.1794\n",
            "Epoch 48/100\n",
            "9/9 [==============================] - 0s 2ms/step - loss: 19.1375 - mae: 19.1375\n",
            "Epoch 49/100\n",
            "9/9 [==============================] - 0s 2ms/step - loss: 19.1536 - mae: 19.1536\n",
            "Epoch 50/100\n",
            "9/9 [==============================] - 0s 2ms/step - loss: 19.1231 - mae: 19.1231\n",
            "Epoch 51/100\n",
            "9/9 [==============================] - 0s 2ms/step - loss: 19.1240 - mae: 19.1240\n",
            "Epoch 52/100\n",
            "9/9 [==============================] - 0s 3ms/step - loss: 19.1209 - mae: 19.1209\n",
            "Epoch 53/100\n",
            "9/9 [==============================] - 0s 2ms/step - loss: 19.1070 - mae: 19.1070\n",
            "Epoch 54/100\n",
            "9/9 [==============================] - 0s 2ms/step - loss: 19.1252 - mae: 19.1252\n",
            "Epoch 55/100\n",
            "9/9 [==============================] - 0s 2ms/step - loss: 19.1132 - mae: 19.1132\n",
            "Epoch 56/100\n",
            "9/9 [==============================] - 0s 2ms/step - loss: 19.1486 - mae: 19.1486\n",
            "Epoch 57/100\n",
            "9/9 [==============================] - 0s 2ms/step - loss: 19.1726 - mae: 19.1726\n",
            "Epoch 58/100\n",
            "9/9 [==============================] - 0s 2ms/step - loss: 19.1129 - mae: 19.1129\n",
            "Epoch 59/100\n",
            "9/9 [==============================] - 0s 2ms/step - loss: 19.1115 - mae: 19.1115\n",
            "Epoch 60/100\n",
            "9/9 [==============================] - 0s 2ms/step - loss: 19.1064 - mae: 19.1064\n",
            "Epoch 61/100\n",
            "9/9 [==============================] - 0s 2ms/step - loss: 19.1340 - mae: 19.1340\n",
            "Epoch 62/100\n",
            "9/9 [==============================] - 0s 3ms/step - loss: 19.1094 - mae: 19.1094\n",
            "Epoch 63/100\n",
            "9/9 [==============================] - 0s 2ms/step - loss: 19.1201 - mae: 19.1201\n",
            "Epoch 64/100\n",
            "9/9 [==============================] - 0s 2ms/step - loss: 19.1097 - mae: 19.1097\n",
            "Epoch 65/100\n",
            "9/9 [==============================] - 0s 2ms/step - loss: 19.1420 - mae: 19.1420\n",
            "Epoch 66/100\n",
            "9/9 [==============================] - 0s 3ms/step - loss: 19.1150 - mae: 19.1150\n",
            "Epoch 67/100\n",
            "9/9 [==============================] - 0s 3ms/step - loss: 19.1331 - mae: 19.1331\n",
            "Epoch 68/100\n",
            "9/9 [==============================] - 0s 2ms/step - loss: 19.1178 - mae: 19.1178\n",
            "Epoch 69/100\n",
            "9/9 [==============================] - 0s 2ms/step - loss: 19.1006 - mae: 19.1006\n",
            "Epoch 70/100\n",
            "9/9 [==============================] - 0s 3ms/step - loss: 19.1229 - mae: 19.1229\n",
            "Epoch 71/100\n",
            "9/9 [==============================] - 0s 2ms/step - loss: 19.1114 - mae: 19.1114\n",
            "Epoch 72/100\n",
            "9/9 [==============================] - 0s 2ms/step - loss: 19.1080 - mae: 19.1080\n",
            "Epoch 73/100\n",
            "9/9 [==============================] - 0s 2ms/step - loss: 19.0976 - mae: 19.0976\n",
            "Epoch 74/100\n",
            "9/9 [==============================] - 0s 2ms/step - loss: 19.1083 - mae: 19.1083\n",
            "Epoch 75/100\n",
            "9/9 [==============================] - 0s 2ms/step - loss: 19.0912 - mae: 19.0912\n",
            "Epoch 76/100\n",
            "9/9 [==============================] - 0s 2ms/step - loss: 19.1073 - mae: 19.1073\n",
            "Epoch 77/100\n",
            "9/9 [==============================] - 0s 2ms/step - loss: 19.0865 - mae: 19.0865\n",
            "Epoch 78/100\n",
            "9/9 [==============================] - 0s 2ms/step - loss: 19.0970 - mae: 19.0970\n",
            "Epoch 79/100\n",
            "9/9 [==============================] - 0s 2ms/step - loss: 19.1027 - mae: 19.1027\n",
            "Epoch 80/100\n",
            "9/9 [==============================] - 0s 2ms/step - loss: 19.0949 - mae: 19.0949\n",
            "Epoch 81/100\n",
            "9/9 [==============================] - 0s 2ms/step - loss: 19.1665 - mae: 19.1665\n",
            "Epoch 82/100\n",
            "9/9 [==============================] - 0s 2ms/step - loss: 19.1139 - mae: 19.1139\n",
            "Epoch 83/100\n",
            "9/9 [==============================] - 0s 2ms/step - loss: 19.0775 - mae: 19.0775\n",
            "Epoch 84/100\n",
            "9/9 [==============================] - 0s 2ms/step - loss: 19.0890 - mae: 19.0890\n",
            "Epoch 85/100\n",
            "9/9 [==============================] - 0s 2ms/step - loss: 19.0946 - mae: 19.0946\n",
            "Epoch 86/100\n",
            "9/9 [==============================] - 0s 2ms/step - loss: 19.0873 - mae: 19.0873\n",
            "Epoch 87/100\n",
            "9/9 [==============================] - 0s 2ms/step - loss: 19.0744 - mae: 19.0744\n",
            "Epoch 88/100\n",
            "9/9 [==============================] - 0s 2ms/step - loss: 19.1012 - mae: 19.1012\n",
            "Epoch 89/100\n",
            "9/9 [==============================] - 0s 3ms/step - loss: 19.0723 - mae: 19.0723\n",
            "Epoch 90/100\n",
            "9/9 [==============================] - 0s 2ms/step - loss: 19.0950 - mae: 19.0950\n",
            "Epoch 91/100\n",
            "9/9 [==============================] - 0s 2ms/step - loss: 19.0776 - mae: 19.0776\n",
            "Epoch 92/100\n",
            "9/9 [==============================] - 0s 3ms/step - loss: 19.0754 - mae: 19.0754\n",
            "Epoch 93/100\n",
            "9/9 [==============================] - 0s 2ms/step - loss: 19.0741 - mae: 19.0741\n",
            "Epoch 94/100\n",
            "9/9 [==============================] - 0s 3ms/step - loss: 19.0808 - mae: 19.0808\n",
            "Epoch 95/100\n",
            "9/9 [==============================] - 0s 2ms/step - loss: 19.0693 - mae: 19.0693\n",
            "Epoch 96/100\n",
            "9/9 [==============================] - 0s 2ms/step - loss: 19.0757 - mae: 19.0757\n",
            "Epoch 97/100\n",
            "9/9 [==============================] - 0s 2ms/step - loss: 19.0717 - mae: 19.0717\n",
            "Epoch 98/100\n",
            "9/9 [==============================] - 0s 2ms/step - loss: 19.0709 - mae: 19.0709\n",
            "Epoch 99/100\n",
            "9/9 [==============================] - 0s 2ms/step - loss: 19.0738 - mae: 19.0738\n",
            "Epoch 100/100\n",
            "9/9 [==============================] - 0s 2ms/step - loss: 19.0644 - mae: 19.0644\n"
          ]
        },
        {
          "output_type": "execute_result",
          "data": {
            "text/plain": [
              "<keras.src.callbacks.History at 0x7d2982fe2bf0>"
            ]
          },
          "metadata": {},
          "execution_count": 81
        }
      ]
    },
    {
      "cell_type": "code",
      "source": [
        "y_pred = model.predict(x_test)\n",
        "y_pred, x_test"
      ],
      "metadata": {
        "colab": {
          "base_uri": "https://localhost:8080/"
        },
        "id": "fejmK1JLzUOV",
        "outputId": "d948b678-67d9-4ecb-c090-74a9a153de3c"
      },
      "execution_count": null,
      "outputs": [
        {
          "output_type": "stream",
          "name": "stdout",
          "text": [
            "2/2 [==============================] - 0s 7ms/step\n"
          ]
        },
        {
          "output_type": "execute_result",
          "data": {
            "text/plain": [
              "(array([[188.6869 , 190.69754, 190.72972, ..., 190.6968 , 188.68076,\n",
              "         190.69402],\n",
              "        [189.86528, 191.8885 , 191.92088, ..., 191.88776, 189.85912,\n",
              "         191.88495],\n",
              "        [191.04367, 193.07947, 193.11205, ..., 193.07874, 191.03749,\n",
              "         193.07588],\n",
              "        ...,\n",
              "        [232.2872 , 234.763  , 234.8026 , ..., 234.76253, 232.28044,\n",
              "         234.75842],\n",
              "        [233.46559, 235.95395, 235.99376, ..., 235.95349, 233.45882,\n",
              "         235.94936],\n",
              "        [234.64398, 237.14491, 237.1849 , ..., 237.14445, 234.63719,\n",
              "         237.14029]], dtype=float32),\n",
              " <tf.Tensor: shape=(40,), dtype=int32, numpy=\n",
              " array([160, 161, 162, 163, 164, 165, 166, 167, 168, 169, 170, 171, 172,\n",
              "        173, 174, 175, 176, 177, 178, 179, 180, 181, 182, 183, 184, 185,\n",
              "        186, 187, 188, 189, 190, 191, 192, 193, 194, 195, 196, 197, 198,\n",
              "        199], dtype=int32)>)"
            ]
          },
          "metadata": {},
          "execution_count": 83
        }
      ]
    },
    {
      "cell_type": "code",
      "source": [],
      "metadata": {
        "id": "NOfFz9W50qut"
      },
      "execution_count": null,
      "outputs": []
    }
  ]
}